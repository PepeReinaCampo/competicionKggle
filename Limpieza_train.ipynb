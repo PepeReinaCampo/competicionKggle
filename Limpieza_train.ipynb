{
 "cells": [
  {
   "cell_type": "markdown",
   "metadata": {},
   "source": [
    "<div style=\"display: flex; justify-content: center;\">\n",
    "    <img src=\"data/bane.png\" style=\"border-radius: 20px; width: 60%;\">\n",
    "</div>"
   ]
  },
  {
   "cell_type": "markdown",
   "metadata": {},
   "source": [
    "## LIBRERÍAS USADAS.\n"
   ]
  },
  {
   "cell_type": "code",
   "execution_count": 1,
   "metadata": {},
   "outputs": [],
   "source": [
    "import pandas as pd \n",
    "from scipy.stats import f_oneway \n",
    "import seaborn as sns\n",
    "import matplotlib.pyplot as plt \n",
    "from scipy.stats import pearsonr\n",
    "import numpy as np \n",
    "import scipy.stats as stats \n",
    "import warnings\n",
    "warnings.simplefilter(action='ignore', category=FutureWarning) \n",
    "pd.set_option('display.max_rows', None) #Con esto quitamos el limite y vemos todas las filas.\n",
    "pd.set_option('display.max_columns', None)# Ajustar las opciones de pandas para mostrar todas las columnas \n",
    "from sklearn.preprocessing import OneHotEncoder , StandardScaler\n",
    "\n",
    "from sklearn.model_selection import train_test_split\n",
    "from sklearn.compose import ColumnTransformer\n",
    "from sklearn.preprocessing import LabelEncoder"
   ]
  },
  {
   "cell_type": "markdown",
   "metadata": {},
   "source": [
    "## CARGA DE DATOS."
   ]
  },
  {
   "cell_type": "code",
   "execution_count": 2,
   "metadata": {},
   "outputs": [],
   "source": [
    "df = pd.read_csv(\"./data/train.csv\") \n"
   ]
  },
  {
   "cell_type": "markdown",
   "metadata": {},
   "source": [
    "## PEQUEÑA VISUALIZACIÓN DE LOS DATASETS."
   ]
  },
  {
   "cell_type": "code",
   "execution_count": 3,
   "metadata": {},
   "outputs": [
    {
     "data": {
      "text/html": [
       "<div>\n",
       "<style scoped>\n",
       "    .dataframe tbody tr th:only-of-type {\n",
       "        vertical-align: middle;\n",
       "    }\n",
       "\n",
       "    .dataframe tbody tr th {\n",
       "        vertical-align: top;\n",
       "    }\n",
       "\n",
       "    .dataframe thead th {\n",
       "        text-align: right;\n",
       "    }\n",
       "</style>\n",
       "<table border=\"1\" class=\"dataframe\">\n",
       "  <thead>\n",
       "    <tr style=\"text-align: right;\">\n",
       "      <th></th>\n",
       "      <th>id</th>\n",
       "      <th>laptop_ID</th>\n",
       "      <th>Company</th>\n",
       "      <th>Product</th>\n",
       "      <th>TypeName</th>\n",
       "      <th>Inches</th>\n",
       "      <th>ScreenResolution</th>\n",
       "      <th>Cpu</th>\n",
       "      <th>Ram</th>\n",
       "      <th>Memory</th>\n",
       "      <th>Gpu</th>\n",
       "      <th>OpSys</th>\n",
       "      <th>Weight</th>\n",
       "      <th>Price_euros</th>\n",
       "    </tr>\n",
       "  </thead>\n",
       "  <tbody>\n",
       "    <tr>\n",
       "      <th>0</th>\n",
       "      <td>268</td>\n",
       "      <td>1002</td>\n",
       "      <td>Dell</td>\n",
       "      <td>Inspiron 5567</td>\n",
       "      <td>Notebook</td>\n",
       "      <td>15.6</td>\n",
       "      <td>1366x768</td>\n",
       "      <td>Intel Core i7 7500U 2.7GHz</td>\n",
       "      <td>8GB</td>\n",
       "      <td>1TB HDD</td>\n",
       "      <td>AMD Radeon R7 M445</td>\n",
       "      <td>Windows 10</td>\n",
       "      <td>2.36kg</td>\n",
       "      <td>749.00</td>\n",
       "    </tr>\n",
       "    <tr>\n",
       "      <th>1</th>\n",
       "      <td>347</td>\n",
       "      <td>867</td>\n",
       "      <td>Asus</td>\n",
       "      <td>X541NA (N4200/4GB/1TB/W10)</td>\n",
       "      <td>Notebook</td>\n",
       "      <td>15.6</td>\n",
       "      <td>1366x768</td>\n",
       "      <td>Intel Pentium Quad Core N4200 1.1GHz</td>\n",
       "      <td>4GB</td>\n",
       "      <td>1TB HDD</td>\n",
       "      <td>Intel HD Graphics 505</td>\n",
       "      <td>Windows 10</td>\n",
       "      <td>2kg</td>\n",
       "      <td>449.00</td>\n",
       "    </tr>\n",
       "    <tr>\n",
       "      <th>2</th>\n",
       "      <td>353</td>\n",
       "      <td>966</td>\n",
       "      <td>Toshiba</td>\n",
       "      <td>Portege Z30-C-1CW</td>\n",
       "      <td>Notebook</td>\n",
       "      <td>13.3</td>\n",
       "      <td>Full HD 1920x1080</td>\n",
       "      <td>Intel Core i5 6200U 2.3GHz</td>\n",
       "      <td>8GB</td>\n",
       "      <td>256GB SSD</td>\n",
       "      <td>Intel HD Graphics 520</td>\n",
       "      <td>Windows 7</td>\n",
       "      <td>1.2kg</td>\n",
       "      <td>1460.00</td>\n",
       "    </tr>\n",
       "    <tr>\n",
       "      <th>3</th>\n",
       "      <td>578</td>\n",
       "      <td>767</td>\n",
       "      <td>Dell</td>\n",
       "      <td>Alienware 17</td>\n",
       "      <td>Gaming</td>\n",
       "      <td>15.6</td>\n",
       "      <td>IPS Panel 4K Ultra HD 3840x2160</td>\n",
       "      <td>Intel Core i7 7700HQ 2.8GHz</td>\n",
       "      <td>16GB</td>\n",
       "      <td>256GB SSD +  1TB HDD</td>\n",
       "      <td>Nvidia GeForce GTX 1070</td>\n",
       "      <td>Windows 10</td>\n",
       "      <td>4.42kg</td>\n",
       "      <td>2868.99</td>\n",
       "    </tr>\n",
       "    <tr>\n",
       "      <th>4</th>\n",
       "      <td>42</td>\n",
       "      <td>1241</td>\n",
       "      <td>Dell</td>\n",
       "      <td>Latitude E7270</td>\n",
       "      <td>Ultrabook</td>\n",
       "      <td>12.5</td>\n",
       "      <td>Full HD / Touchscreen 1920x1080</td>\n",
       "      <td>Intel Core i5 6300U 2.4GHz</td>\n",
       "      <td>8GB</td>\n",
       "      <td>256GB SSD</td>\n",
       "      <td>Intel HD Graphics 520</td>\n",
       "      <td>Windows 7</td>\n",
       "      <td>1.26kg</td>\n",
       "      <td>1713.37</td>\n",
       "    </tr>\n",
       "  </tbody>\n",
       "</table>\n",
       "</div>"
      ],
      "text/plain": [
       "    id  laptop_ID  Company                     Product   TypeName  Inches  \\\n",
       "0  268       1002     Dell               Inspiron 5567   Notebook    15.6   \n",
       "1  347        867     Asus  X541NA (N4200/4GB/1TB/W10)   Notebook    15.6   \n",
       "2  353        966  Toshiba           Portege Z30-C-1CW   Notebook    13.3   \n",
       "3  578        767     Dell                Alienware 17     Gaming    15.6   \n",
       "4   42       1241     Dell              Latitude E7270  Ultrabook    12.5   \n",
       "\n",
       "                  ScreenResolution                                   Cpu  \\\n",
       "0                         1366x768            Intel Core i7 7500U 2.7GHz   \n",
       "1                         1366x768  Intel Pentium Quad Core N4200 1.1GHz   \n",
       "2                Full HD 1920x1080            Intel Core i5 6200U 2.3GHz   \n",
       "3  IPS Panel 4K Ultra HD 3840x2160           Intel Core i7 7700HQ 2.8GHz   \n",
       "4  Full HD / Touchscreen 1920x1080            Intel Core i5 6300U 2.4GHz   \n",
       "\n",
       "    Ram                Memory                      Gpu       OpSys  Weight  \\\n",
       "0   8GB               1TB HDD       AMD Radeon R7 M445  Windows 10  2.36kg   \n",
       "1   4GB               1TB HDD    Intel HD Graphics 505  Windows 10     2kg   \n",
       "2   8GB             256GB SSD    Intel HD Graphics 520   Windows 7   1.2kg   \n",
       "3  16GB  256GB SSD +  1TB HDD  Nvidia GeForce GTX 1070  Windows 10  4.42kg   \n",
       "4   8GB             256GB SSD    Intel HD Graphics 520   Windows 7  1.26kg   \n",
       "\n",
       "   Price_euros  \n",
       "0       749.00  \n",
       "1       449.00  \n",
       "2      1460.00  \n",
       "3      2868.99  \n",
       "4      1713.37  "
      ]
     },
     "execution_count": 3,
     "metadata": {},
     "output_type": "execute_result"
    }
   ],
   "source": [
    "df.head(5)"
   ]
  },
  {
   "cell_type": "code",
   "execution_count": 4,
   "metadata": {},
   "outputs": [
    {
     "name": "stdout",
     "output_type": "stream",
     "text": [
      "<class 'pandas.core.frame.DataFrame'>\n",
      "RangeIndex: 912 entries, 0 to 911\n",
      "Data columns (total 14 columns):\n",
      " #   Column            Non-Null Count  Dtype  \n",
      "---  ------            --------------  -----  \n",
      " 0   id                912 non-null    int64  \n",
      " 1   laptop_ID         912 non-null    int64  \n",
      " 2   Company           912 non-null    object \n",
      " 3   Product           912 non-null    object \n",
      " 4   TypeName          912 non-null    object \n",
      " 5   Inches            912 non-null    float64\n",
      " 6   ScreenResolution  912 non-null    object \n",
      " 7   Cpu               912 non-null    object \n",
      " 8   Ram               912 non-null    object \n",
      " 9   Memory            912 non-null    object \n",
      " 10  Gpu               912 non-null    object \n",
      " 11  OpSys             912 non-null    object \n",
      " 12  Weight            912 non-null    object \n",
      " 13  Price_euros       912 non-null    float64\n",
      "dtypes: float64(2), int64(2), object(10)\n",
      "memory usage: 99.9+ KB\n"
     ]
    }
   ],
   "source": [
    "df.info()"
   ]
  },
  {
   "cell_type": "markdown",
   "metadata": {},
   "source": [
    ">Vemos que no hay nulos"
   ]
  },
  {
   "cell_type": "markdown",
   "metadata": {},
   "source": [
    "## ESTUDIO/PREPARACION DE CADA COLUMNA."
   ]
  },
  {
   "cell_type": "markdown",
   "metadata": {},
   "source": [
    "## 1ª columna: \"id\"."
   ]
  },
  {
   "cell_type": "code",
   "execution_count": 5,
   "metadata": {},
   "outputs": [],
   "source": [
    "#df['id'].value_counts()"
   ]
  },
  {
   "cell_type": "markdown",
   "metadata": {},
   "source": [
    ">No hay ninguna entrada repetida. Esto es importante en una columna con identificadores, no es necesario hacer nada a esta columna."
   ]
  },
  {
   "cell_type": "markdown",
   "metadata": {},
   "source": [
    "## 2ª columna: \"laptop_ID\"."
   ]
  },
  {
   "cell_type": "code",
   "execution_count": 6,
   "metadata": {},
   "outputs": [],
   "source": [
    "#df['laptop_ID'].value_counts()"
   ]
  },
  {
   "cell_type": "markdown",
   "metadata": {},
   "source": [
    ">En principio, podemos suponer que esta columna la podemos eliminar. No hay entradas repetidas, parece ser un ID y no es el ID que necesitamos usar para nuestro modelado. Además, no parece dar ninguna información, pero para asegurarnos, veremos si hay alguna relación."
   ]
  },
  {
   "cell_type": "code",
   "execution_count": 7,
   "metadata": {},
   "outputs": [
    {
     "data": {
      "image/png": "[encoded data removed]",
      "text/plain": [
       "<Figure size 640x480 with 1 Axes>"
      ]
     },
     "metadata": {},
     "output_type": "display_data"
    },
    {
     "name": "stdout",
     "output_type": "stream",
     "text": [
      "La correlación entre 'laptop_ID' y 'Price_euros' es 0.05280814891603999\n"
     ]
    }
   ],
   "source": [
    "sns.scatterplot(data=df, x='Price_euros' , y='laptop_ID')\n",
    "plt.show()\n",
    "\n",
    "\n",
    "correlacion = df['laptop_ID'].corr(df['Price_euros'])\n",
    "print(\"La correlación entre 'laptop_ID' y 'Price_euros' es\", correlacion)"
   ]
  },
  {
   "cell_type": "markdown",
   "metadata": {},
   "source": [
    "> Viendo el gráfico, no parece haber un patrón claro y, además, la correlación es muy baja... Así que parece que mandamos a la columna a por tabaco."
   ]
  },
  {
   "cell_type": "code",
   "execution_count": 8,
   "metadata": {},
   "outputs": [],
   "source": [
    "df.drop(columns=['laptop_ID'], inplace=True) \n"
   ]
  },
  {
   "cell_type": "markdown",
   "metadata": {},
   "source": [
    "## 3ª columna: \"Company\"."
   ]
  },
  {
   "cell_type": "code",
   "execution_count": 9,
   "metadata": {},
   "outputs": [
    {
     "data": {
      "text/plain": [
       "Company\n",
       "Lenovo       208\n",
       "Dell         207\n",
       "HP           189\n",
       "Asus         108\n",
       "Acer          75\n",
       "Toshiba       37\n",
       "MSI           34\n",
       "Apple         17\n",
       "Mediacom       7\n",
       "Razer          6\n",
       "Samsung        6\n",
       "Fujitsu        3\n",
       "Microsoft      3\n",
       "Vero           3\n",
       "Xiaomi         3\n",
       "Google         2\n",
       "Chuwi          2\n",
       "LG             1\n",
       "Huawei         1\n",
       "Name: count, dtype: int64"
      ]
     },
     "execution_count": 9,
     "metadata": {},
     "output_type": "execute_result"
    }
   ],
   "source": [
    "df['Company'].value_counts()\n"
   ]
  },
  {
   "cell_type": "markdown",
   "metadata": {},
   "source": [
    "> No parece haber ninguna marca mal escrita o de forma diferente, por lo que de momento no será necesario hacerle ningún cambio. Aunque más tarde la convertiremos a numérica, de momento podemos ver su relación con el target, el precio del ordenador. Pero tenga o no relación, de momento no la eliminaremos."
   ]
  },
  {
   "cell_type": "code",
   "execution_count": 10,
   "metadata": {},
   "outputs": [
    {
     "name": "stdout",
     "output_type": "stream",
     "text": [
      "ANOVA results: F_onewayResult(statistic=10.558083134034037, pvalue=1.601814230941227e-27)\n"
     ]
    }
   ],
   "source": [
    "anova_result = stats.f_oneway(*(df[df['Company'] == company]['Price_euros'] for company in df['Company'].unique()))\n",
    "print('ANOVA results:', anova_result)"
   ]
  },
  {
   "cell_type": "markdown",
   "metadata": {},
   "source": [
    "> Los resultados del ANOVA sugieren que hay diferencias significativas en los precios medios de los portátiles entre las diferentes marcas. Esto significa que la marca del portátil tiene una relación estadísticamente significativa con el precio de venta."
   ]
  },
  {
   "cell_type": "code",
   "execution_count": 11,
   "metadata": {},
   "outputs": [
    {
     "data": {
      "image/png": "[encoded data removed]",
      "text/plain": [
       "<Figure size 1200x800 with 1 Axes>"
      ]
     },
     "metadata": {},
     "output_type": "display_data"
    }
   ],
   "source": [
    "plt.figure(figsize=(12, 8))\n",
    "sns.barplot(x='Company', y='Price_euros', data=df, ci='sd')\n",
    "plt.xticks(rotation=90)\n",
    "plt.title('Precio Medio por Marca con Desviación Estándar')\n",
    "plt.ylabel('Precio en Euros')\n",
    "plt.show()"
   ]
  },
  {
   "cell_type": "markdown",
   "metadata": {},
   "source": [
    "> Vemos que no todos tienen la misma media ni la misma desviación típica. Esto puede hacernos pensar muy fácilmente que la marca está relacionada directamente con el precio. Dado que buscamos ser lo más imparciales posible, no podemos dar por verdad nada, porque puede ser que el precio dependa de las características, y la marca esté relacionada con las características. De momento, no eliminaremos la marca."
   ]
  },
  {
   "cell_type": "markdown",
   "metadata": {},
   "source": [
    "## 4ª columna: \"Product\"."
   ]
  },
  {
   "cell_type": "code",
   "execution_count": 12,
   "metadata": {},
   "outputs": [
    {
     "data": {
      "text/plain": [
       "Product\n",
       "Inspiron 3567                                    21\n",
       "XPS 13                                           20\n",
       "250 G6                                           19\n",
       "Vostro 3568                                      16\n",
       "Inspiron 5570                                    11\n",
       "Legion Y520-15IKBN                               11\n",
       "ProBook 450                                      11\n",
       "Inspiron 5567                                    10\n",
       "Inspiron 7567                                    10\n",
       "Satellite Pro                                    10\n",
       "Aspire 3                                         10\n",
       "Alienware 17                                     10\n",
       "EliteBook 840                                     9\n",
       "ThinkPad X1                                       9\n",
       "XPS 15                                            8\n",
       "MacBook Pro                                       8\n",
       "EliteBook 850                                     8\n",
       "Vostro 5568                                       7\n",
       "ProBook 470                                       7\n",
       "IdeaPad 320-15ISK                                 7\n",
       "EliteBook 820                                     7\n",
       "Inspiron 7577                                     6\n",
       "Probook 440                                       6\n",
       "MacBook 12\"                                       6\n",
       "Inspiron 3552                                     6\n",
       "Inspiron 3576                                     6\n",
       "ThinkPad T470s                                    5\n",
       "IdeaPad 320-15AST                                 5\n",
       "Aspire 5                                          5\n",
       "Rog Strix                                         5\n",
       "Latitude 5480                                     5\n",
       "Swift 3                                           5\n",
       "Latitude 5580                                     5\n",
       "IdeaPad 320-15IKBN                                5\n",
       "Notebook 9                                        5\n",
       "ThinkPad Yoga                                     5\n",
       "Inspiron 5770                                     5\n",
       "ProBook 430                                       5\n",
       "IdeaPad 310-15IKB                                 5\n",
       "IdeaPad 320-15IAP                                 5\n",
       "ZenBook Flip                                      5\n",
       "Yoga 900-13ISK                                    4\n",
       "IdeaPad 320-15ABR                                 4\n",
       "ProBook 440                                       4\n",
       "ZBook 17                                          4\n",
       "IdeaPad Y700-15ISK                                4\n",
       "Yoga Book                                         4\n",
       "ProBook 650                                       4\n",
       "EliteBook x360                                    4\n",
       "IdeaPad 320-15IKB                                 4\n",
       "Blade Pro                                         4\n",
       "ThinkPad 13                                       4\n",
       "Probook 450                                       3\n",
       "ROG Strix                                         3\n",
       "Aspire A517-51G                                   3\n",
       "Yoga 910-13IKB                                    3\n",
       "VivoBook Max                                      3\n",
       "Latitude 3580                                     3\n",
       "X553SA-XX031T (N3050/4GB/500GB/W10)               3\n",
       "Mi Notebook                                       3\n",
       "Elitebook 820                                     3\n",
       "Inspiron 5379                                     3\n",
       "Latitude 7480                                     3\n",
       "IdeaPad 320-17IKB                                 3\n",
       "Spectre Pro                                       3\n",
       "Yoga 500-14ISK                                    3\n",
       "IdeaPad 100S-14IBR                                3\n",
       "Stream 11-Y000na                                  3\n",
       "Aspire ES1-531                                    3\n",
       "Surface Laptop                                    3\n",
       "ThinkPad E480                                     3\n",
       "Inspiron 5577                                     3\n",
       "ThinkPad T570                                     3\n",
       "Probook 470                                       3\n",
       "Aspire E5-576G                                    3\n",
       "IdeaPad 310-15ISK                                 3\n",
       "Chromebook 14                                     3\n",
       "Latitude E5570                                    3\n",
       "EliteBook 1040                                    2\n",
       "Latitude E7470                                    2\n",
       "Thinkpad E570                                     2\n",
       "Chromebook X360                                   2\n",
       "Probook 650                                       2\n",
       "Aspire 7                                          2\n",
       "ZBook 15u                                         2\n",
       "Aspire ES1-523                                    2\n",
       "ThinkPad T460                                     2\n",
       "ThinkPad E570                                     2\n",
       "Alienware 15                                      2\n",
       "VivoBook Flip                                     2\n",
       "Pavilion 15-AW003nv                               2\n",
       "Legion Y720-15IKB                                 2\n",
       "ThinkPad E580                                     2\n",
       "Inspiron 5579                                     2\n",
       "Aspire A315-51                                    2\n",
       "ThinkPad L470                                     2\n",
       "Elitebook 840                                     2\n",
       "Latitude 3480                                     2\n",
       "Inspiron 7559                                     2\n",
       "IdeaPad 110-15ISK                                 2\n",
       "Aspire R7                                         2\n",
       "Aspire ES1-572                                    2\n",
       "IdeaPad 510-15IKB                                 2\n",
       "ThinkPad L570                                     2\n",
       "Thinkpad T460                                     2\n",
       "15-AC110nv (i7-6500U/6GB/1TB/Radeon               2\n",
       "Predator G9-793                                   2\n",
       "ThinkPad X270                                     2\n",
       "ProBook 640                                       2\n",
       "Latitude 5590                                     2\n",
       "SmartBook Edge                                    2\n",
       "Aspire A515-51G                                   2\n",
       "Thinkpad X1                                       2\n",
       "Precision 3520                                    2\n",
       "VivoBook E403NA                                   2\n",
       "IdeaPad Y900-17ISK                                2\n",
       "Probook 430                                       2\n",
       "Spectre x360                                      2\n",
       "Pixelbook (Core                                   2\n",
       "Chromebook Flip                                   2\n",
       "Latitude E5270                                    2\n",
       "VivoBook S15                                      2\n",
       "X556UJ-XO044T (i7-6500U/4GB/500GB/GeForce         2\n",
       "Inspiron 5370                                     2\n",
       "Inspiron 7773                                     2\n",
       "GL62M 7RD                                         2\n",
       "Precision M5520                                   2\n",
       "Vostro 3559                                       2\n",
       "Blade Stealth                                     2\n",
       "Macbook Air                                       2\n",
       "Thinkpad Yoga                                     2\n",
       "Yoga 720-15IKB                                    2\n",
       "Inspiron 5578                                     2\n",
       "Yoga 920-13IKB                                    2\n",
       "Spin 5                                            2\n",
       "Thinkpad T470                                     2\n",
       "Latitude 7280                                     2\n",
       "Envy 17-U275cl                                    1\n",
       "IdeaPad 500-15ISK                                 1\n",
       "15-BS103nv (i5-8250U/6GB/256GB/Radeon             1\n",
       "Yoga 510-15IKB                                    1\n",
       "FX753VE-GC093 (i7-7700HQ/12GB/1TB/GeForce         1\n",
       "Tecra A50-D-11M                                   1\n",
       "Latitude 3570                                     1\n",
       "Yoga 720-13IKB                                    1\n",
       "GS63VR 7RF                                        1\n",
       "Portege X20W-D-10V                                1\n",
       "X541NA-GO121 (N4200/4GB/1TB/Linux)                1\n",
       "GS40 Phantom                                      1\n",
       "Yoga 730                                          1\n",
       "V110-15ISK (i3-6006U/4GB/128GB/W10)               1\n",
       "Latitude 3380                                     1\n",
       "Tecra A40-C-1DF                                   1\n",
       "Vivobook E200HA                                   1\n",
       "C740-C9QX (3205U/2GB/32GB/Chrome                  1\n",
       "A541NA-GO342 (N3350/4GB/500GB/Linux)              1\n",
       "R417NA-RS01 (N3350/4GB/32GB/W10)                  1\n",
       "ZenBook UX530UQ-PRO                               1\n",
       "Zenbook UX430UA                                   1\n",
       "Pavilion 15-CK000nv                               1\n",
       "FlexBook Edge                                     1\n",
       "15-bs011nv (i7-7500U/4GB/500GB/Radeon             1\n",
       "K147 (N3350/4GB/32GB/FHD/W10)                     1\n",
       "Rog GL753VE-DS74                                  1\n",
       "G752VY-GC162T (i7-6700HQ/16GB/1TB                 1\n",
       "FX753VD-GC071T (i7-7700HQ/8GB/1TB/GeForce         1\n",
       "Zenbook UX410UA-GV027T                            1\n",
       "15-bs018nq (i3-6006U/4GB/500GB/FHD/No             1\n",
       "Rog G701VIK-BA060T                                1\n",
       "LifeBook A557                                     1\n",
       "GT62VR 6RD                                        1\n",
       "Thinkpad T570                                     1\n",
       "GS60 Ghost                                        1\n",
       "X541UV-DM1439T (i3-7100U/6GB/256GB/GeForce        1\n",
       "V110-15ISK (i3-6006U/4GB/500GB/W10)               1\n",
       "Vivobook Max                                      1\n",
       "B51-80 (i5-6200U/8GB/1TB/Radeon                   1\n",
       "FX553VD-FY647T (i7-7700HQ/8GB/256GB/GeForce       1\n",
       "V310-15IKB (i5-7200U/8GB/1TB                      1\n",
       "Zenbook Flip                                      1\n",
       "ZenBook UX510UX-CN211T                            1\n",
       "Omen -                                            1\n",
       "15-BA015wm (E2-7110/4GB/500GB/W10)                1\n",
       "V142 (X5-Z8350/2GB/32GB/W10)                      1\n",
       "Omen 15-AX205na                                   1\n",
       "15-rb013nv (E2-9000e/4GB/500GB/W10)               1\n",
       "Pavilion x360                                     1\n",
       "V110-15IAP (N3350/4GB/1TB/No                      1\n",
       "15-bs015dx (i5-7200U/8GB/1TB/W10)                 1\n",
       "Omen 17-w207nv                                    1\n",
       "Vostro 5468                                       1\n",
       "V310-15IKB (i7-7500U/4GB/1TB/FHD/W10)             1\n",
       "V310-15IKB (i5-7200U/4GB/1TB/FHD/W10)             1\n",
       "IdeaPad 300-17ISK                                 1\n",
       "Spectre 13-V100nv                                 1\n",
       "V110-15IAP (N3350/4GB/128GB/No                    1\n",
       "15-ay047nv (i3-6006U/6GB/1TB/Radeon               1\n",
       "17-BS037cl (i3-6006U/8GB/1TB/W10)                 1\n",
       "Predator 17                                       1\n",
       "FX753VD-GC086T (i5-7300HQ/8GB/1TB                 1\n",
       "Envy 13-AB002nv                                   1\n",
       "Rog G752VL-GC088D                                 1\n",
       "IdeaPad Y910-17ISK                                1\n",
       "FX553VD-DM627T (i5-7300HQ/8GB/1TB                 1\n",
       "Stream 14-AX000nv                                 1\n",
       "Portege Z30-C-1CV                                 1\n",
       "Thinkpad 13                                       1\n",
       "15-ba043na (A12-9700P/8GB/2TB/W10)                1\n",
       "Thinkpad T460s                                    1\n",
       "Smartbook 142                                     1\n",
       "Vostro 5370                                       1\n",
       "Precision 5520                                    1\n",
       "Pavilion 15-BC000nv                               1\n",
       "UX410UA-GV097T (i3-7100U/4GB/256GB/FHD/W10)       1\n",
       "17-ak001nv (A6-9220/4GB/500GB/Radeon              1\n",
       "ProBook x360                                      1\n",
       "Zenbook UX330UA-AH5Q                              1\n",
       "15-bs025nv (i5-7200U/8GB/256GB/W10)               1\n",
       "LapBook 15.6\"                                     1\n",
       "MacBook Air                                       1\n",
       "Omen 15-ce006nv                                   1\n",
       "Zbook 17                                          1\n",
       "GS70 Stealth                                      1\n",
       "GP62M 7REX                                        1\n",
       "IdeaPad 720S-13IKB                                1\n",
       "SmartBook 141                                     1\n",
       "Chromebook C738T-C2EJ                             1\n",
       "Thinkpad P51s                                     1\n",
       "Latitude E5470                                    1\n",
       "Ideapad 320-15IKBR                                1\n",
       "V110-15ISK (i5-6200U/4GB/500GB/No                 1\n",
       "14-am079na (N3710/8GB/2TB/W10)                    1\n",
       "ThinkPad T470                                     1\n",
       "V310-15ISK (i3-6006U/4GB/128GB/FHD/No             1\n",
       "X505BP-BR019T (A9-9420/4GB/1TB/Radeon             1\n",
       "Yoga 500-14IBD                                    1\n",
       "Inspiron 7378                                     1\n",
       "Rog GL552VW-CN470T                                1\n",
       "15-bw002nv (A6-9220/4GB/256GB/Radeon              1\n",
       "Inspiron 5368                                     1\n",
       "X751SV-TY001T (N3710/4GB/1TB/GeForce              1\n",
       "X541NA (N3350/4GB/1TB/Linux)                      1\n",
       "Tecra Z50-D-10E                                   1\n",
       "TMX349-G2-M-50FS (i5-7200U/8GB/256GB/FHD/W10)     1\n",
       "Rog GL753VD-GC082T                                1\n",
       "Portege Z30-C-16L                                 1\n",
       "Zenbook UX510UW-FI095T                            1\n",
       "GE72VR Apache                                     1\n",
       "Lapbook 15,6                                      1\n",
       "17-BS092ND (i3-6006U/8GB/256GB/W10)               1\n",
       "Aspire F5-573G-510L                               1\n",
       "Rog GL702VM-GC354T                                1\n",
       "X541NA (N3350/4GB/1TB/FHD/W10)                    1\n",
       "FX550IK-DM018T (FX-9830P/8GB/1TB/Radeon           1\n",
       "Ideapad 320-15IKBN                                1\n",
       "V110-15ISK (i5-6200U/4GB/128GB/W10)               1\n",
       "IdeaPad 520s-14IKB                                1\n",
       "GE62 Apache                                       1\n",
       "V330-15IKB (i5-8250U/8GB/256GB/FHD/W10)           1\n",
       "GE72MVR 7RG                                       1\n",
       "ZenBook UX310UA-WB71                              1\n",
       "Noteb Pav                                         1\n",
       "IdeaPad 510s-14IKB                                1\n",
       "Aspire F5-573G                                    1\n",
       "15-bs053od (i7-7500U/6GB/1TB/W10)                 1\n",
       "GL72M 7REX                                        1\n",
       "IdeaPad 320-14IAP                                 1\n",
       "Rog GL702VM-GC017T                                1\n",
       "Portege A30-C-1CZ                                 1\n",
       "ZenBook Pro                                       1\n",
       "255 G6                                            1\n",
       "Pro P2540UA-AB51                                  1\n",
       "VivoBook X540YA-XX519T                            1\n",
       "Rog GL502VS                                       1\n",
       "Aspire ES1-533                                    1\n",
       "TravelMate P238-M                                 1\n",
       "Tecra A50-C-21G                                   1\n",
       "FX753VE-GC155T (i7-7700HQ/16GB/1TB                1\n",
       "15-bw003nv (A9-Series-9420/4GB/256GB/FHD/W10)     1\n",
       "VivoBook Pro                                      1\n",
       "Tecra A40-C-1KF                                   1\n",
       "Swift 7                                           1\n",
       "Probook 640                                       1\n",
       "X541NA-GO020T (N3350/4GB/1TB/W10)                 1\n",
       "17-bs001nv (i5-7200U/6GB/2TB/Radeon               1\n",
       "ROG G752VSK-GC493T                                1\n",
       "ThinkPad E470                                     1\n",
       "V310-15ISK (i5-7200U/8GB/1TB                      1\n",
       "GS73VR 7RG                                        1\n",
       "Nitro 5                                           1\n",
       "Tecra Z40-C-161                                   1\n",
       "250 G4                                            1\n",
       "Chromebook C910-C2ST                              1\n",
       "GT80S 6QF-074US                                   1\n",
       "ROG G701VI                                        1\n",
       "Tecra Z50-C-140                                   1\n",
       "Pavilion 15-cb003nv                               1\n",
       "Inspiron 3168                                     1\n",
       "15-BS026nv (i5-7200U/8GB/256GB/Radeon             1\n",
       "N42-20 Chromebook                                 1\n",
       "Ideapad 510S-13IKB                                1\n",
       "Rog GL502VM-DS74                                  1\n",
       "Lifebook A557                                     1\n",
       "Zbook 15                                          1\n",
       "UX410UA-GV350T (i5-8250U/8GB/256GB/FHD/W10)       1\n",
       "Envy 13-AD007nv                                   1\n",
       "Pavilion Power                                    1\n",
       "GL62M 7RDX                                        1\n",
       "GT62VR 7RE                                        1\n",
       "15-AY023na (N3710/8GB/2TB/W10)                    1\n",
       "V320-17ISK (i3-6006U/4GB/500GB/FHD/No             1\n",
       "Inspiron 3179                                     1\n",
       "V310-15ISK (i3-6006U/4GB/500GB/No                 1\n",
       "Zenbook 3                                         1\n",
       "Pro P2540UA-XS51                                  1\n",
       "GE72 Apache                                       1\n",
       "Elitebook 1040                                    1\n",
       "Tecra A40-C-1E5                                   1\n",
       "X555QG-DM242T (A10-9620P/4GB/1TB                  1\n",
       "GT73EVR 7RE                                       1\n",
       "V110-15IKB (i5-7200U/4GB/128GB/W10)               1\n",
       "15-bw011nv (A6-9220/4GB/1TB/FHD/W10)              1\n",
       "Ideapad 700-15ISK                                 1\n",
       "Portege X30-D-10V                                 1\n",
       "V510-15IKB (i5-7200U/8GB/256GB/FHD/No             1\n",
       "Rog G752VT-GC073T                                 1\n",
       "Pro P2540UA-XO0198T                               1\n",
       "Spin 3                                            1\n",
       "15-bw007nv (A10-9620P/6GB/128GB/Radeon            1\n",
       "Inspiron 7579                                     1\n",
       "Tecra A50-D-11D                                   1\n",
       "SmartBook 130                                     1\n",
       "X542UQ-DM117 (i3-7100U/8GB/1TB/GeForce            1\n",
       "TravelMate P259-G2                                1\n",
       "FX502VM-DM105T (i7-6700HQ/8GB/1TB/GeForce         1\n",
       "Portégé Z30-C-16K                                 1\n",
       "Aspire E5-774G                                    1\n",
       "GL62 6QF                                          1\n",
       "ThinkPad P40                                      1\n",
       "SP714-51 (i7-7Y75/8GB/256GB/FHD/W10)              1\n",
       "Aspire E5-475                                     1\n",
       "GE73VR 7RE                                        1\n",
       "Chromebook C731-C78G                              1\n",
       "GE63VR 7RE                                        1\n",
       "K756UX-T4340T (i5-7200U/8GB/500GB                 1\n",
       "Yoga 520-14IKB                                    1\n",
       "B51-80 (i7-6500U/8GB/1008GB/Radeon                1\n",
       "GL553VE-FY082T (i7-7700HQ/8GB/1TB                 1\n",
       "Extensa EX2540-58KR                               1\n",
       "X540UA-DM186 (i3-6006U/4GB/1TB/FHD/Linux)         1\n",
       "Omen 17-W295                                      1\n",
       "17-ak002nv (A10-9620P/6GB/2TB/Radeon              1\n",
       "Thinkpad P51                                      1\n",
       "Aspire E5-575                                     1\n",
       "15-cd005nv (A9-9420/6GB/256GB/Radeon              1\n",
       "X553SA-XX021T (N3050/4GB/500GB/W10)               1\n",
       "Tecra A50-C-1ZV                                   1\n",
       "X540SA-RBPDN09 (N3710/4GB/1TB/W10)                1\n",
       "Rog GL553VE-FY052T                                1\n",
       "UX430UQ-GV209R (i7-7500U/8GB/256GB/GeForce        1\n",
       "GP62M 7RDX                                        1\n",
       "X541UA-DM1897 (i3-6006U/4GB/256GB/FHD/Linux)      1\n",
       "Latitude E7270                                    1\n",
       "Portege Z30-C-1CW                                 1\n",
       "Chromebook CB5-571-C1DZ                           1\n",
       "15-BS101nv (i7-8550U/8GB/256GB/FHD/W10)           1\n",
       "Latitude 3180                                     1\n",
       "Aspire A315-31                                    1\n",
       "IdeaPad Y700-15ACZ                                1\n",
       "V110-15ISK (i3-6006U/4GB/1TB/No                   1\n",
       "V330-15IKB (i7-8550U/8GB/256GB/FHD/W10)           1\n",
       "15-cb003na (i5-7300HQ/8GB/1TB                     1\n",
       "Portege X30-D-10L                                 1\n",
       "Thinkpad X270                                     1\n",
       "N23 (N3060/4GB/128GB/W10)                         1\n",
       "GT72VR Dominator                                  1\n",
       "EliteBook Folio                                   1\n",
       "15-ra044nv (N3060/4GB/500GB/W10)                  1\n",
       "GL62M (i5-7300HQ/8GB/1TB                          1\n",
       "L403NA-GA013TS (N3350/4GB/32GB/W10)               1\n",
       "Ideapad 310-15ISK                                 1\n",
       "ThinkPad P51                                      1\n",
       "SmartBook 140                                     1\n",
       "Thinkpad T560                                     1\n",
       "Tecra Z40-C-136                                   1\n",
       "LifeBook A556                                     1\n",
       "E402WA-GA010T (E2-6110/2GB/32GB/W10)              1\n",
       "L502NA-GO052T (N3350/4GB/128GB/W10)               1\n",
       "Rog GL553VE-DS74                                  1\n",
       "Latitude 5289                                     1\n",
       "FX503VM-E4007T (i7-7700HQ/16GB/1TB                1\n",
       "ZenBook UX430UA                                   1\n",
       "Thinkpad P71                                      1\n",
       "Thinkpad X260                                     1\n",
       "Rog GL702VS-GC095T                                1\n",
       "Portege X30-D-10X                                 1\n",
       "Leopard GP72M                                     1\n",
       "Chromebook 15                                     1\n",
       "UX510UX-CN269T (i7-7500U/8GB/256GB                1\n",
       "Pavilion X360                                     1\n",
       "GP62 7RDX                                         1\n",
       "K146 (N3350/4GB/32GB/W10)                         1\n",
       "Omen 17-AN010nv                                   1\n",
       "Chromebook N23                                    1\n",
       "Aspire A715-71G                                   1\n",
       "ThinkPad P70                                      1\n",
       "Yoga 900S-12ISK                                   1\n",
       "Inspiron 7570                                     1\n",
       "ZenBook UX430UN                                   1\n",
       "250 G5                                            1\n",
       "Elitebook 850                                     1\n",
       "Precision 7520                                    1\n",
       "Inspiron 5767                                     1\n",
       "GE63VR 7RF                                        1\n",
       "Chromebook 13                                     1\n",
       "Aspire A515-51G-59QF                              1\n",
       "GP72VR Leopard                                    1\n",
       "V330-15IKB (i5-8250U/4GB/256GB/FHD/W10)           1\n",
       "ROG GL703VD-GC028T                                1\n",
       "V110-15ISK (i5-6200U/4GB/500GB/W10)               1\n",
       "GP72M 7REX                                        1\n",
       "ZBook Studio                                      1\n",
       "Flex 5                                            1\n",
       "Tecra Z40-C-12X                                   1\n",
       "IdeaPad 520S-14IKB                                1\n",
       "ThinkPad T560                                     1\n",
       "V110-15ISK (i3-6006U/4GB/1TB/Radeon               1\n",
       "Chromebook 3                                      1\n",
       "Tecra Z50-C-144                                   1\n",
       "MateBook X                                        1\n",
       "X541NA (N4200/4GB/1TB/W10)                        1\n",
       "Thinkpad L560                                     1\n",
       "X705UV-BX074T (i3-6006U/4GB/1TB/GeForce           1\n",
       "Envy 13-AB077cl                                   1\n",
       "GS73VR Stealth                                    1\n",
       "Laptop MSI                                        1\n",
       "Inspiron 5568                                     1\n",
       "Thinkpad P50                                      1\n",
       "Swift SF114-31-P5HY                               1\n",
       "17-X047na (i3-6006U/8GB/1TB/W10)                  1\n",
       "ThinkPad T460s                                    1\n",
       "X541NA-GO414T (N3350/8GB/1TB/W10)                 1\n",
       "Aspire 1                                          1\n",
       "ZenBook UX305CA-UBM1                              1\n",
       "X541NA-PD1003Y (N4200/4GB/500GB/W10)              1\n",
       "GP72MVR 7RFX                                      1\n",
       "Rog G752VL-UH71T                                  1\n",
       "E402WA-GA007T (E2-6110/4GB/64GB/W10               1\n",
       "ZBook 15                                          1\n",
       "Gram 15Z975                                       1\n",
       "IdeaPad 320-17IKBR                                1\n",
       "GS43VR 7RE                                        1\n",
       "Yoga 500-15ISK                                    1\n",
       "GT73VR Titan                                      1\n",
       "Thinkpad E470                                     1\n",
       "Envy 13-ad009n                                    1\n",
       "X751NV-TY001 (N4200/4GB/1TB/GeForce               1\n",
       "TravelMate B117-M                                 1\n",
       "Tecra X40-D-10G                                   1\n",
       "Portege Z30T-C-133                                1\n",
       "Pro P2540UA-XO0192R                               1\n",
       "Omen 17-W006na                                    1\n",
       "15-bs078cl (i7-7500U/8GB/2TB/W10)                 1\n",
       "15-bs190od (i5-8250U/4GB/1TB/W10)                 1\n",
       "15-bw009nv (A12-9720P/6GB/1TB/Radeon              1\n",
       "Thinkpad T460p                                    1\n",
       "17-bs000nv I3                                     1\n",
       "Portege Z30-C-16J                                 1\n",
       "B51-80 (i7-6500U/4GB/1008GB/FHD/W7)               1\n",
       "Portégé Z30-C-188                                 1\n",
       "Elitebook Folio                                   1\n",
       "Q304UA-BHI5T11 (i5-7200U/6GB/1TB/FHD/W10)         1\n",
       "ThinkPad T470p                                    1\n",
       "V310-15IKB (i5-7200U/4GB/1TB/No                   1\n",
       "Portege Z30-C-16H                                 1\n",
       "Name: count, dtype: int64"
      ]
     },
     "execution_count": 12,
     "metadata": {},
     "output_type": "execute_result"
    }
   ],
   "source": [
    "df['Product'].value_counts()"
   ]
  },
  {
   "cell_type": "markdown",
   "metadata": {},
   "source": [
    "> Vemos que hay entradas , veamos esto."
   ]
  },
  {
   "cell_type": "code",
   "execution_count": 13,
   "metadata": {},
   "outputs": [
    {
     "data": {
      "text/html": [
       "<div>\n",
       "<style scoped>\n",
       "    .dataframe tbody tr th:only-of-type {\n",
       "        vertical-align: middle;\n",
       "    }\n",
       "\n",
       "    .dataframe tbody tr th {\n",
       "        vertical-align: top;\n",
       "    }\n",
       "\n",
       "    .dataframe thead th {\n",
       "        text-align: right;\n",
       "    }\n",
       "</style>\n",
       "<table border=\"1\" class=\"dataframe\">\n",
       "  <thead>\n",
       "    <tr style=\"text-align: right;\">\n",
       "      <th></th>\n",
       "      <th>id</th>\n",
       "      <th>Company</th>\n",
       "      <th>Product</th>\n",
       "      <th>TypeName</th>\n",
       "      <th>Inches</th>\n",
       "      <th>ScreenResolution</th>\n",
       "      <th>Cpu</th>\n",
       "      <th>Ram</th>\n",
       "      <th>Memory</th>\n",
       "      <th>Gpu</th>\n",
       "      <th>OpSys</th>\n",
       "      <th>Weight</th>\n",
       "      <th>Price_euros</th>\n",
       "    </tr>\n",
       "  </thead>\n",
       "  <tbody>\n",
       "    <tr>\n",
       "      <th>46</th>\n",
       "      <td>1047</td>\n",
       "      <td>Dell</td>\n",
       "      <td>Inspiron 3567</td>\n",
       "      <td>Notebook</td>\n",
       "      <td>15.6</td>\n",
       "      <td>1366x768</td>\n",
       "      <td>Intel Core i3 6006U 2GHz</td>\n",
       "      <td>4GB</td>\n",
       "      <td>1TB HDD</td>\n",
       "      <td>Intel HD Graphics 520</td>\n",
       "      <td>Windows 10</td>\n",
       "      <td>2.3kg</td>\n",
       "      <td>418.64</td>\n",
       "    </tr>\n",
       "    <tr>\n",
       "      <th>161</th>\n",
       "      <td>1023</td>\n",
       "      <td>Dell</td>\n",
       "      <td>Inspiron 3567</td>\n",
       "      <td>Notebook</td>\n",
       "      <td>15.6</td>\n",
       "      <td>Full HD 1920x1080</td>\n",
       "      <td>Intel Core i7 7500U 2.7GHz</td>\n",
       "      <td>8GB</td>\n",
       "      <td>1TB HDD</td>\n",
       "      <td>AMD Radeon R5 M430</td>\n",
       "      <td>Linux</td>\n",
       "      <td>2.2kg</td>\n",
       "      <td>599.90</td>\n",
       "    </tr>\n",
       "    <tr>\n",
       "      <th>262</th>\n",
       "      <td>1238</td>\n",
       "      <td>Dell</td>\n",
       "      <td>Inspiron 3567</td>\n",
       "      <td>Notebook</td>\n",
       "      <td>15.6</td>\n",
       "      <td>Full HD 1920x1080</td>\n",
       "      <td>Intel Core i5 7200U 2.5GHz</td>\n",
       "      <td>4GB</td>\n",
       "      <td>256GB SSD</td>\n",
       "      <td>AMD Radeon R5 M430</td>\n",
       "      <td>Linux</td>\n",
       "      <td>2.3kg</td>\n",
       "      <td>598.90</td>\n",
       "    </tr>\n",
       "    <tr>\n",
       "      <th>320</th>\n",
       "      <td>929</td>\n",
       "      <td>Dell</td>\n",
       "      <td>Inspiron 3567</td>\n",
       "      <td>Notebook</td>\n",
       "      <td>15.6</td>\n",
       "      <td>1366x768</td>\n",
       "      <td>Intel Core i7 7500U 2.7GHz</td>\n",
       "      <td>8GB</td>\n",
       "      <td>1TB HDD</td>\n",
       "      <td>AMD Radeon R5 M430</td>\n",
       "      <td>Linux</td>\n",
       "      <td>2.3kg</td>\n",
       "      <td>805.99</td>\n",
       "    </tr>\n",
       "    <tr>\n",
       "      <th>363</th>\n",
       "      <td>890</td>\n",
       "      <td>Dell</td>\n",
       "      <td>Inspiron 3567</td>\n",
       "      <td>Notebook</td>\n",
       "      <td>15.6</td>\n",
       "      <td>1366x768</td>\n",
       "      <td>Intel Core i5 7200U 2.5GHz</td>\n",
       "      <td>8GB</td>\n",
       "      <td>1TB HDD</td>\n",
       "      <td>Intel HD Graphics 620</td>\n",
       "      <td>Windows 10</td>\n",
       "      <td>2.14kg</td>\n",
       "      <td>539.95</td>\n",
       "    </tr>\n",
       "  </tbody>\n",
       "</table>\n",
       "</div>"
      ],
      "text/plain": [
       "       id Company        Product  TypeName  Inches   ScreenResolution  \\\n",
       "46   1047    Dell  Inspiron 3567  Notebook    15.6           1366x768   \n",
       "161  1023    Dell  Inspiron 3567  Notebook    15.6  Full HD 1920x1080   \n",
       "262  1238    Dell  Inspiron 3567  Notebook    15.6  Full HD 1920x1080   \n",
       "320   929    Dell  Inspiron 3567  Notebook    15.6           1366x768   \n",
       "363   890    Dell  Inspiron 3567  Notebook    15.6           1366x768   \n",
       "\n",
       "                            Cpu  Ram     Memory                    Gpu  \\\n",
       "46     Intel Core i3 6006U 2GHz  4GB    1TB HDD  Intel HD Graphics 520   \n",
       "161  Intel Core i7 7500U 2.7GHz  8GB    1TB HDD     AMD Radeon R5 M430   \n",
       "262  Intel Core i5 7200U 2.5GHz  4GB  256GB SSD     AMD Radeon R5 M430   \n",
       "320  Intel Core i7 7500U 2.7GHz  8GB    1TB HDD     AMD Radeon R5 M430   \n",
       "363  Intel Core i5 7200U 2.5GHz  8GB    1TB HDD  Intel HD Graphics 620   \n",
       "\n",
       "          OpSys  Weight  Price_euros  \n",
       "46   Windows 10   2.3kg       418.64  \n",
       "161       Linux   2.2kg       599.90  \n",
       "262       Linux   2.3kg       598.90  \n",
       "320       Linux   2.3kg       805.99  \n",
       "363  Windows 10  2.14kg       539.95  "
      ]
     },
     "execution_count": 13,
     "metadata": {},
     "output_type": "execute_result"
    }
   ],
   "source": [
    "df_producto = df.loc[df['Product'] == 'Inspiron 3567'] \n",
    "df_producto.head(5)"
   ]
  },
  {
   "cell_type": "markdown",
   "metadata": {},
   "source": [
    ">Se ha hecho lo mismo con otros modelos repetidos (Sin informacion entre parentesis en la columuna 'Product'). Para evitar que se alargue demasiado, se han eliminado al comprobar que se trata de ordenadores distintos."
   ]
  },
  {
   "cell_type": "code",
   "execution_count": 14,
   "metadata": {},
   "outputs": [],
   "source": [
    "#df[df['Product'].str.contains(r'\\(')] #Lo comentamos, ya lo hemos visto."
   ]
  },
  {
   "cell_type": "markdown",
   "metadata": {},
   "source": [
    "\n",
    ">Vimos que algunas entradas de esta columna tienen información entre paréntesis y ademas estan repetidos, veamos si se trata de ordenadores repetidos y lo podemos eliminar. \n"
   ]
  },
  {
   "cell_type": "code",
   "execution_count": 15,
   "metadata": {},
   "outputs": [
    {
     "data": {
      "text/html": [
       "<div>\n",
       "<style scoped>\n",
       "    .dataframe tbody tr th:only-of-type {\n",
       "        vertical-align: middle;\n",
       "    }\n",
       "\n",
       "    .dataframe tbody tr th {\n",
       "        vertical-align: top;\n",
       "    }\n",
       "\n",
       "    .dataframe thead th {\n",
       "        text-align: right;\n",
       "    }\n",
       "</style>\n",
       "<table border=\"1\" class=\"dataframe\">\n",
       "  <thead>\n",
       "    <tr style=\"text-align: right;\">\n",
       "      <th></th>\n",
       "      <th>id</th>\n",
       "      <th>Company</th>\n",
       "      <th>Product</th>\n",
       "      <th>TypeName</th>\n",
       "      <th>Inches</th>\n",
       "      <th>ScreenResolution</th>\n",
       "      <th>Cpu</th>\n",
       "      <th>Ram</th>\n",
       "      <th>Memory</th>\n",
       "      <th>Gpu</th>\n",
       "      <th>OpSys</th>\n",
       "      <th>Weight</th>\n",
       "      <th>Price_euros</th>\n",
       "    </tr>\n",
       "  </thead>\n",
       "  <tbody>\n",
       "    <tr>\n",
       "      <th>88</th>\n",
       "      <td>1083</td>\n",
       "      <td>Asus</td>\n",
       "      <td>X553SA-XX031T (N3050/4GB/500GB/W10)</td>\n",
       "      <td>Notebook</td>\n",
       "      <td>15.6</td>\n",
       "      <td>1366x768</td>\n",
       "      <td>Intel Celeron Dual Core N3050 1.6GHz</td>\n",
       "      <td>4GB</td>\n",
       "      <td>500GB HDD</td>\n",
       "      <td>Intel HD Graphics</td>\n",
       "      <td>Windows 10</td>\n",
       "      <td>2.2kg</td>\n",
       "      <td>369.0</td>\n",
       "    </tr>\n",
       "    <tr>\n",
       "      <th>271</th>\n",
       "      <td>72</td>\n",
       "      <td>Asus</td>\n",
       "      <td>X553SA-XX031T (N3050/4GB/500GB/W10)</td>\n",
       "      <td>Notebook</td>\n",
       "      <td>15.6</td>\n",
       "      <td>1366x768</td>\n",
       "      <td>Intel Celeron Dual Core N3050 1.6GHz</td>\n",
       "      <td>4GB</td>\n",
       "      <td>500GB HDD</td>\n",
       "      <td>Intel HD Graphics</td>\n",
       "      <td>Windows 10</td>\n",
       "      <td>2.2kg</td>\n",
       "      <td>369.0</td>\n",
       "    </tr>\n",
       "    <tr>\n",
       "      <th>315</th>\n",
       "      <td>546</td>\n",
       "      <td>Asus</td>\n",
       "      <td>X553SA-XX031T (N3050/4GB/500GB/W10)</td>\n",
       "      <td>Notebook</td>\n",
       "      <td>15.6</td>\n",
       "      <td>1366x768</td>\n",
       "      <td>Intel Celeron Dual Core N3050 1.6GHz</td>\n",
       "      <td>4GB</td>\n",
       "      <td>500GB HDD</td>\n",
       "      <td>Intel HD Graphics</td>\n",
       "      <td>Windows 10</td>\n",
       "      <td>2.2kg</td>\n",
       "      <td>369.0</td>\n",
       "    </tr>\n",
       "  </tbody>\n",
       "</table>\n",
       "</div>"
      ],
      "text/plain": [
       "       id Company                              Product  TypeName  Inches  \\\n",
       "88   1083    Asus  X553SA-XX031T (N3050/4GB/500GB/W10)  Notebook    15.6   \n",
       "271    72    Asus  X553SA-XX031T (N3050/4GB/500GB/W10)  Notebook    15.6   \n",
       "315   546    Asus  X553SA-XX031T (N3050/4GB/500GB/W10)  Notebook    15.6   \n",
       "\n",
       "    ScreenResolution                                   Cpu  Ram     Memory  \\\n",
       "88          1366x768  Intel Celeron Dual Core N3050 1.6GHz  4GB  500GB HDD   \n",
       "271         1366x768  Intel Celeron Dual Core N3050 1.6GHz  4GB  500GB HDD   \n",
       "315         1366x768  Intel Celeron Dual Core N3050 1.6GHz  4GB  500GB HDD   \n",
       "\n",
       "                   Gpu       OpSys Weight  Price_euros  \n",
       "88   Intel HD Graphics  Windows 10  2.2kg        369.0  \n",
       "271  Intel HD Graphics  Windows 10  2.2kg        369.0  \n",
       "315  Intel HD Graphics  Windows 10  2.2kg        369.0  "
      ]
     },
     "execution_count": 15,
     "metadata": {},
     "output_type": "execute_result"
    }
   ],
   "source": [
    "df_producto_x = df.loc[df['Product'] == 'X553SA-XX031T (N3050/4GB/500GB/W10)'] \n",
    "df_producto_x"
   ]
  },
  {
   "cell_type": "markdown",
   "metadata": {},
   "source": [
    ">Son el mismo, eliminamos repetidos."
   ]
  },
  {
   "cell_type": "code",
   "execution_count": 16,
   "metadata": {},
   "outputs": [],
   "source": [
    "#indices_a_eliminar = [271, 315]\n",
    "#df = df.drop(indices_a_eliminar)"
   ]
  },
  {
   "cell_type": "code",
   "execution_count": 17,
   "metadata": {},
   "outputs": [
    {
     "data": {
      "text/html": [
       "<div>\n",
       "<style scoped>\n",
       "    .dataframe tbody tr th:only-of-type {\n",
       "        vertical-align: middle;\n",
       "    }\n",
       "\n",
       "    .dataframe tbody tr th {\n",
       "        vertical-align: top;\n",
       "    }\n",
       "\n",
       "    .dataframe thead th {\n",
       "        text-align: right;\n",
       "    }\n",
       "</style>\n",
       "<table border=\"1\" class=\"dataframe\">\n",
       "  <thead>\n",
       "    <tr style=\"text-align: right;\">\n",
       "      <th></th>\n",
       "      <th>id</th>\n",
       "      <th>Company</th>\n",
       "      <th>Product</th>\n",
       "      <th>TypeName</th>\n",
       "      <th>Inches</th>\n",
       "      <th>ScreenResolution</th>\n",
       "      <th>Cpu</th>\n",
       "      <th>Ram</th>\n",
       "      <th>Memory</th>\n",
       "      <th>Gpu</th>\n",
       "      <th>OpSys</th>\n",
       "      <th>Weight</th>\n",
       "      <th>Price_euros</th>\n",
       "    </tr>\n",
       "  </thead>\n",
       "  <tbody>\n",
       "    <tr>\n",
       "      <th>714</th>\n",
       "      <td>1132</td>\n",
       "      <td>HP</td>\n",
       "      <td>15-AC110nv (i7-6500U/6GB/1TB/Radeon</td>\n",
       "      <td>Notebook</td>\n",
       "      <td>15.6</td>\n",
       "      <td>1366x768</td>\n",
       "      <td>Intel Core i7 6500U 2.5GHz</td>\n",
       "      <td>6GB</td>\n",
       "      <td>1TB HDD</td>\n",
       "      <td>AMD Radeon R5 M330</td>\n",
       "      <td>Windows 10</td>\n",
       "      <td>2.19kg</td>\n",
       "      <td>764.0</td>\n",
       "    </tr>\n",
       "    <tr>\n",
       "      <th>906</th>\n",
       "      <td>241</td>\n",
       "      <td>HP</td>\n",
       "      <td>15-AC110nv (i7-6500U/6GB/1TB/Radeon</td>\n",
       "      <td>Notebook</td>\n",
       "      <td>15.6</td>\n",
       "      <td>1366x768</td>\n",
       "      <td>Intel Core i7 6500U 2.5GHz</td>\n",
       "      <td>6GB</td>\n",
       "      <td>1TB HDD</td>\n",
       "      <td>AMD Radeon R5 M330</td>\n",
       "      <td>Windows 10</td>\n",
       "      <td>2.19kg</td>\n",
       "      <td>764.0</td>\n",
       "    </tr>\n",
       "  </tbody>\n",
       "</table>\n",
       "</div>"
      ],
      "text/plain": [
       "       id Company                              Product  TypeName  Inches  \\\n",
       "714  1132      HP  15-AC110nv (i7-6500U/6GB/1TB/Radeon  Notebook    15.6   \n",
       "906   241      HP  15-AC110nv (i7-6500U/6GB/1TB/Radeon  Notebook    15.6   \n",
       "\n",
       "    ScreenResolution                         Cpu  Ram   Memory  \\\n",
       "714         1366x768  Intel Core i7 6500U 2.5GHz  6GB  1TB HDD   \n",
       "906         1366x768  Intel Core i7 6500U 2.5GHz  6GB  1TB HDD   \n",
       "\n",
       "                    Gpu       OpSys  Weight  Price_euros  \n",
       "714  AMD Radeon R5 M330  Windows 10  2.19kg        764.0  \n",
       "906  AMD Radeon R5 M330  Windows 10  2.19kg        764.0  "
      ]
     },
     "execution_count": 17,
     "metadata": {},
     "output_type": "execute_result"
    }
   ],
   "source": [
    "df_producto_a = df.loc[df['Product'] == '15-AC110nv (i7-6500U/6GB/1TB/Radeon'] \n",
    "df_producto_a"
   ]
  },
  {
   "cell_type": "markdown",
   "metadata": {},
   "source": [
    ">Son el mismo, eliminamos repetidos."
   ]
  },
  {
   "cell_type": "code",
   "execution_count": 18,
   "metadata": {},
   "outputs": [],
   "source": [
    "#indices_a_eliminar = [906]\n",
    "#df = df.drop(indices_a_eliminar)"
   ]
  },
  {
   "cell_type": "code",
   "execution_count": 19,
   "metadata": {},
   "outputs": [
    {
     "data": {
      "text/html": [
       "<div>\n",
       "<style scoped>\n",
       "    .dataframe tbody tr th:only-of-type {\n",
       "        vertical-align: middle;\n",
       "    }\n",
       "\n",
       "    .dataframe tbody tr th {\n",
       "        vertical-align: top;\n",
       "    }\n",
       "\n",
       "    .dataframe thead th {\n",
       "        text-align: right;\n",
       "    }\n",
       "</style>\n",
       "<table border=\"1\" class=\"dataframe\">\n",
       "  <thead>\n",
       "    <tr style=\"text-align: right;\">\n",
       "      <th></th>\n",
       "      <th>id</th>\n",
       "      <th>Company</th>\n",
       "      <th>Product</th>\n",
       "      <th>TypeName</th>\n",
       "      <th>Inches</th>\n",
       "      <th>ScreenResolution</th>\n",
       "      <th>Cpu</th>\n",
       "      <th>Ram</th>\n",
       "      <th>Memory</th>\n",
       "      <th>Gpu</th>\n",
       "      <th>OpSys</th>\n",
       "      <th>Weight</th>\n",
       "      <th>Price_euros</th>\n",
       "    </tr>\n",
       "  </thead>\n",
       "  <tbody>\n",
       "    <tr>\n",
       "      <th>384</th>\n",
       "      <td>1103</td>\n",
       "      <td>Google</td>\n",
       "      <td>Pixelbook (Core</td>\n",
       "      <td>Ultrabook</td>\n",
       "      <td>12.3</td>\n",
       "      <td>Touchscreen 2400x1600</td>\n",
       "      <td>Intel Core i5 7Y57 1.2GHz</td>\n",
       "      <td>8GB</td>\n",
       "      <td>256GB SSD</td>\n",
       "      <td>Intel HD Graphics 615</td>\n",
       "      <td>Chrome OS</td>\n",
       "      <td>1.1kg</td>\n",
       "      <td>1559.0</td>\n",
       "    </tr>\n",
       "    <tr>\n",
       "      <th>675</th>\n",
       "      <td>812</td>\n",
       "      <td>Google</td>\n",
       "      <td>Pixelbook (Core</td>\n",
       "      <td>Ultrabook</td>\n",
       "      <td>12.3</td>\n",
       "      <td>Touchscreen 2400x1600</td>\n",
       "      <td>Intel Core i7 7Y75 1.3GHz</td>\n",
       "      <td>16GB</td>\n",
       "      <td>512GB SSD</td>\n",
       "      <td>Intel HD Graphics 615</td>\n",
       "      <td>Chrome OS</td>\n",
       "      <td>1.1kg</td>\n",
       "      <td>2199.0</td>\n",
       "    </tr>\n",
       "  </tbody>\n",
       "</table>\n",
       "</div>"
      ],
      "text/plain": [
       "       id Company          Product   TypeName  Inches       ScreenResolution  \\\n",
       "384  1103  Google  Pixelbook (Core  Ultrabook    12.3  Touchscreen 2400x1600   \n",
       "675   812  Google  Pixelbook (Core  Ultrabook    12.3  Touchscreen 2400x1600   \n",
       "\n",
       "                           Cpu   Ram     Memory                    Gpu  \\\n",
       "384  Intel Core i5 7Y57 1.2GHz   8GB  256GB SSD  Intel HD Graphics 615   \n",
       "675  Intel Core i7 7Y75 1.3GHz  16GB  512GB SSD  Intel HD Graphics 615   \n",
       "\n",
       "         OpSys Weight  Price_euros  \n",
       "384  Chrome OS  1.1kg       1559.0  \n",
       "675  Chrome OS  1.1kg       2199.0  "
      ]
     },
     "execution_count": 19,
     "metadata": {},
     "output_type": "execute_result"
    }
   ],
   "source": [
    "df_producto_p = df.loc[df['Product'] == 'Pixelbook (Core'] \n",
    "df_producto_p"
   ]
  },
  {
   "cell_type": "markdown",
   "metadata": {},
   "source": [
    ">No son iguales, así que no eliminaremos ninguno de los dos. Sin embargo, al final de esta limpieza, como paso final, eliminaremos el paréntesis.\n",
    "\n",
    "\n",
    "\n",
    "\n",
    "\n"
   ]
  },
  {
   "cell_type": "code",
   "execution_count": 20,
   "metadata": {},
   "outputs": [
    {
     "data": {
      "text/html": [
       "<div>\n",
       "<style scoped>\n",
       "    .dataframe tbody tr th:only-of-type {\n",
       "        vertical-align: middle;\n",
       "    }\n",
       "\n",
       "    .dataframe tbody tr th {\n",
       "        vertical-align: top;\n",
       "    }\n",
       "\n",
       "    .dataframe thead th {\n",
       "        text-align: right;\n",
       "    }\n",
       "</style>\n",
       "<table border=\"1\" class=\"dataframe\">\n",
       "  <thead>\n",
       "    <tr style=\"text-align: right;\">\n",
       "      <th></th>\n",
       "      <th>id</th>\n",
       "      <th>Company</th>\n",
       "      <th>Product</th>\n",
       "      <th>TypeName</th>\n",
       "      <th>Inches</th>\n",
       "      <th>ScreenResolution</th>\n",
       "      <th>Cpu</th>\n",
       "      <th>Ram</th>\n",
       "      <th>Memory</th>\n",
       "      <th>Gpu</th>\n",
       "      <th>OpSys</th>\n",
       "      <th>Weight</th>\n",
       "      <th>Price_euros</th>\n",
       "    </tr>\n",
       "  </thead>\n",
       "  <tbody>\n",
       "    <tr>\n",
       "      <th>636</th>\n",
       "      <td>997</td>\n",
       "      <td>Asus</td>\n",
       "      <td>X556UJ-XO044T (i7-6500U/4GB/500GB/GeForce</td>\n",
       "      <td>Notebook</td>\n",
       "      <td>15.6</td>\n",
       "      <td>1366x768</td>\n",
       "      <td>Intel Core i7 6500U 2.5GHz</td>\n",
       "      <td>4GB</td>\n",
       "      <td>500GB HDD</td>\n",
       "      <td>Nvidia GeForce 920M</td>\n",
       "      <td>Windows 10</td>\n",
       "      <td>2.2kg</td>\n",
       "      <td>720.32</td>\n",
       "    </tr>\n",
       "    <tr>\n",
       "      <th>868</th>\n",
       "      <td>228</td>\n",
       "      <td>Asus</td>\n",
       "      <td>X556UJ-XO044T (i7-6500U/4GB/500GB/GeForce</td>\n",
       "      <td>Notebook</td>\n",
       "      <td>15.6</td>\n",
       "      <td>1366x768</td>\n",
       "      <td>Intel Core i7 6500U 2.5GHz</td>\n",
       "      <td>4GB</td>\n",
       "      <td>500GB HDD</td>\n",
       "      <td>Nvidia GeForce 920M</td>\n",
       "      <td>Windows 10</td>\n",
       "      <td>2.2kg</td>\n",
       "      <td>720.32</td>\n",
       "    </tr>\n",
       "  </tbody>\n",
       "</table>\n",
       "</div>"
      ],
      "text/plain": [
       "      id Company                                    Product  TypeName  Inches  \\\n",
       "636  997    Asus  X556UJ-XO044T (i7-6500U/4GB/500GB/GeForce  Notebook    15.6   \n",
       "868  228    Asus  X556UJ-XO044T (i7-6500U/4GB/500GB/GeForce  Notebook    15.6   \n",
       "\n",
       "    ScreenResolution                         Cpu  Ram     Memory  \\\n",
       "636         1366x768  Intel Core i7 6500U 2.5GHz  4GB  500GB HDD   \n",
       "868         1366x768  Intel Core i7 6500U 2.5GHz  4GB  500GB HDD   \n",
       "\n",
       "                     Gpu       OpSys Weight  Price_euros  \n",
       "636  Nvidia GeForce 920M  Windows 10  2.2kg       720.32  \n",
       "868  Nvidia GeForce 920M  Windows 10  2.2kg       720.32  "
      ]
     },
     "execution_count": 20,
     "metadata": {},
     "output_type": "execute_result"
    }
   ],
   "source": [
    "df_producto_ax = df.loc[df['Product'] == 'X556UJ-XO044T (i7-6500U/4GB/500GB/GeForce'] \n",
    "df_producto_ax"
   ]
  },
  {
   "cell_type": "markdown",
   "metadata": {},
   "source": [
    ">Son el mismo, eliminamos repetidos."
   ]
  },
  {
   "cell_type": "code",
   "execution_count": 21,
   "metadata": {},
   "outputs": [],
   "source": [
    "#indices_a_eliminar = [868]\n",
    "#df = df.drop(indices_a_eliminar)"
   ]
  },
  {
   "cell_type": "markdown",
   "metadata": {},
   "source": [
    "### Como comprobación, eliminaremos las columnas de ID y veremos si hay filas repetidas."
   ]
  },
  {
   "cell_type": "code",
   "execution_count": 22,
   "metadata": {},
   "outputs": [
    {
     "data": {
      "text/plain": [
       "Index([], dtype='object')"
      ]
     },
     "execution_count": 22,
     "metadata": {},
     "output_type": "execute_result"
    }
   ],
   "source": [
    "df_aux = df.drop(columns=['id']) \n",
    "columnas_duplicadas = df_aux.columns[df_aux.columns.duplicated()]\n",
    "columnas_duplicadas\n"
   ]
  },
  {
   "cell_type": "markdown",
   "metadata": {},
   "source": [
    "### Ahora eliminemos los paréntesis."
   ]
  },
  {
   "cell_type": "code",
   "execution_count": 23,
   "metadata": {},
   "outputs": [],
   "source": [
    "df['Product'] = df['Product'].str.split('(').str.get(0)\n"
   ]
  },
  {
   "cell_type": "markdown",
   "metadata": {},
   "source": [
    "### Veamos si podemos simplificar aun más."
   ]
  },
  {
   "cell_type": "code",
   "execution_count": 24,
   "metadata": {},
   "outputs": [],
   "source": [
    "#df['Product'].value_counts() #lo comento para no hacer demasido largo esto."
   ]
  },
  {
   "cell_type": "code",
   "execution_count": 25,
   "metadata": {},
   "outputs": [],
   "source": [
    "df['Modelo'] = df['Product'].apply(lambda x: x.split(' ')[0])\n",
    "df['Submodelo'] = df['Product'].apply(lambda x: ' '.join(x.split(' ')[1:]) if len(x.split(' ')) > 1 else None)"
   ]
  },
  {
   "cell_type": "code",
   "execution_count": 26,
   "metadata": {},
   "outputs": [],
   "source": [
    "for index, row in df.iterrows():\n",
    "    # Si la entrada en la columna 'Company' no es 'HP', pasamos a la siguiente fila\n",
    "    if row['Company'] != 'HP':\n",
    "        continue\n",
    "# Si la entrada en la columna 'Company' es 'HP' y la entrada en la columna 'Product' comienza con dos caracteres numéricos seguidos de '-', procesamos\n",
    "    if row['Product'][:2].isdigit() and '-' in row['Product']:\n",
    "        # Dividimos la entrada en la columna 'Product' en dos partes en el primer '-'\n",
    "        parts = row['Product'].split('-', 1)\n",
    "        # Asignamos los dos primeros caracteres numéricos a 'Modelo' y el resto a 'Submodelo'\n",
    "        df.at[index, 'Modelo'] = parts[0][:2]\n",
    "        df.at[index, 'Submodelo'] = parts[1]\n",
    "    else:\n",
    "        # Si no cumple las condiciones anteriores, no hacemos ningún cambio en esa fila\n",
    "        continue\n"
   ]
  },
  {
   "cell_type": "code",
   "execution_count": 27,
   "metadata": {},
   "outputs": [],
   "source": [
    "for index, row in df.iterrows():\n",
    "    \n",
    "    if row['Company'] != 'Lenovo':\n",
    "        continue\n",
    "# Si la entrada en la columna 'Company' es 'HP' y la entrada en la columna 'Product' comienza con dos caracteres numéricos seguidos de '-', procesamos\n",
    "    if row['Product'][:2].isdigit() and '-' in row['Product']:\n",
    "        # Dividimos la entrada en la columna 'Product' en dos partes en el primer '-'\n",
    "        parts = row['Product'].split('-', 1)\n",
    "        # Asignamos los dos primeros caracteres numéricos a 'Modelo' y el resto a 'Submodelo'\n",
    "        df.at[index, 'Modelo'] = parts[0][:2]\n",
    "        df.at[index, 'Submodelo'] = parts[1]\n",
    "    else:\n",
    "        # Si no cumple las condiciones anteriores, no hacemos ningún cambio en esa fila\n",
    "        continue"
   ]
  },
  {
   "cell_type": "code",
   "execution_count": 28,
   "metadata": {},
   "outputs": [],
   "source": [
    "asus_row = df[(df['Company'] == 'Asus') & (df['Product'] == 'A541NA-GO342 ')].index \n",
    "\n",
    "# Si encontramos la fila de Asus con ese producto, asignamos los valores correspondientes a Modelo y Submodelo\n",
    "if not asus_row.empty:\n",
    "    df.at[asus_row[0], 'Modelo'] = 'A541NA'\n",
    "    df.at[asus_row[0], 'Submodelo'] = 'GO342'"
   ]
  },
  {
   "cell_type": "code",
   "execution_count": 29,
   "metadata": {},
   "outputs": [],
   "source": [
    "df.at[515, 'Modelo'] = 'C740'\n",
    "df.at[515, 'Submodelo'] = 'C9QX'"
   ]
  },
  {
   "cell_type": "code",
   "execution_count": 30,
   "metadata": {},
   "outputs": [],
   "source": [
    "df.at[863, 'Modelo'] = 'TMX349'\n",
    "df.at[863, 'Submodelo'] = 'G2-M-50FS'"
   ]
  },
  {
   "cell_type": "code",
   "execution_count": 31,
   "metadata": {},
   "outputs": [],
   "source": [
    "df.at[596, 'Submodelo'] = 'Sin_submodelo'"
   ]
  },
  {
   "cell_type": "code",
   "execution_count": 32,
   "metadata": {},
   "outputs": [],
   "source": [
    "df.at[180, 'Modelo'] = 'SP714'\n",
    "df.at[180, 'Submodelo'] = '51'"
   ]
  },
  {
   "cell_type": "code",
   "execution_count": 33,
   "metadata": {},
   "outputs": [],
   "source": [
    "for index, row in df.iterrows():\n",
    "    # Si la entrada en la columna 'Company' no es 'Lenovo', pasamos a la siguiente fila\n",
    "    if row['Company'] != 'Lenovo':\n",
    "        continue\n",
    "    \n",
    "    # Si la entrada en la columna 'Product' comienza con 'B51' seguido de '-', procesamos\n",
    "    if row['Product'].startswith('B51-'):\n",
    "        # Dividimos la entrada en la columna 'Product' en dos partes en el primer '-'\n",
    "        parts = row['Product'].split('-', 1)\n",
    "        # Asignamos lo que está antes del '-' a 'Modelo' y lo que está después del '-' a 'Submodelo'\n",
    "        df.at[index, 'Modelo'] = parts[0]\n",
    "        df.at[index, 'Submodelo'] = parts[1]\n",
    "    else:\n",
    "        # Si no cumple las condiciones anteriores, no hacemos ningún cambio en esa fila\n",
    "        continue"
   ]
  },
  {
   "cell_type": "code",
   "execution_count": 34,
   "metadata": {},
   "outputs": [],
   "source": [
    "for index, row in df.iterrows():\n",
    "    # Si la entrada en la columna 'Company' no es 'Asus', pasamos a la siguiente fila\n",
    "    if row['Company'] != 'Asus':\n",
    "        continue\n",
    "    \n",
    "    # Dividimos la entrada en la columna 'Product' en dos partes en el primer '-'\n",
    "    parts = row['Product'].split('-', 1)\n",
    "    \n",
    "    # Verificamos si la lista parts tiene al menos dos elementos\n",
    "    if len(parts) >= 2:\n",
    "        # Asignamos la primera parte como 'Modelo' y la segunda parte como 'Submodelo'\n",
    "        df.at[index, 'Modelo'] = parts[0]\n",
    "        df.at[index, 'Submodelo'] = parts[1]\n",
    "    else:\n",
    "        # Si no hay suficientes partes, asignamos toda la entrada a 'Modelo' y dejamos 'Submodelo' como None\n",
    "        df.at[index, 'Modelo'] = row['Product']\n",
    "        df.at[index, 'Submodelo'] = None"
   ]
  },
  {
   "cell_type": "code",
   "execution_count": 35,
   "metadata": {},
   "outputs": [],
   "source": [
    "for index, row in df.iterrows():\n",
    "    # Si la entrada en la columna 'Company' no es 'Lenovo', pasamos a la siguiente fila\n",
    "    if row['Company'] != 'Lenovo':\n",
    "        continue\n",
    "    \n",
    "    # Dividimos la entrada en la columna 'Product' en dos partes en el primer '-'\n",
    "    parts = row['Product'].split('-', 1)\n",
    "    \n",
    "    # Verificamos si la lista parts tiene al menos dos elementos\n",
    "    if len(parts) >= 2:\n",
    "        # Asignamos la primera parte como 'Modelo' y la segunda parte como 'Submodelo'\n",
    "        df.at[index, 'Modelo'] = parts[0]\n",
    "        df.at[index, 'Submodelo'] = parts[1]\n",
    "    else:\n",
    "        # Si no hay suficientes partes, asignamos toda la entrada a 'Modelo' y dejamos 'Submodelo' como None\n",
    "        df.at[index, 'Modelo'] = row['Product']\n",
    "        df.at[index, 'Submodelo'] = None"
   ]
  },
  {
   "cell_type": "code",
   "execution_count": 36,
   "metadata": {},
   "outputs": [],
   "source": [
    "for index, row in df.iterrows():\n",
    "    # Si la entrada en la columna 'Company' no es 'Lenovo', pasamos a la siguiente fila\n",
    "    if row['Company'] != 'Lenovo':\n",
    "        continue\n",
    "    \n",
    "    # Verificamos si la entrada en la columna 'Product' contiene 'ThinkPad'\n",
    "    if 'ThinkPad' in row['Product']:\n",
    "        # Dividimos la entrada en la columna 'Product' en dos partes en el primer 'ThinkPad'\n",
    "        parts = row['Product'].split('ThinkPad', 1)\n",
    "        \n",
    "        # Asignamos 'ThinkPad' a 'Modelo' y lo que está después de 'ThinkPad' a 'Submodelo'\n",
    "        df.at[index, 'Modelo'] = 'ThinkPad'\n",
    "        df.at[index, 'Submodelo'] = parts[1].strip()  # Eliminamos los espacios en blanco alrededor de la cadena\n",
    "    else:\n",
    "        # Si 'ThinkPad' no está en la entrada, no hacemos ningún cambio en esa fila\n",
    "        continue"
   ]
  },
  {
   "cell_type": "code",
   "execution_count": 37,
   "metadata": {},
   "outputs": [],
   "source": [
    "for index, row in df.iterrows():\n",
    "    # Si la entrada en la columna 'Company' no es 'Asus', pasamos a la siguiente fila\n",
    "    if row['Company'] != 'Asus':\n",
    "        continue\n",
    "    \n",
    "    # Verificamos si la entrada en la columna 'Product' contiene 'VivoBook'\n",
    "    if 'VivoBook' in row['Product']:\n",
    "        # Dividimos la entrada en la columna 'Product' en dos partes en el primer 'VivoBook'\n",
    "        parts = row['Product'].split('VivoBook', 1)\n",
    "        \n",
    "        # Asignamos 'VivoBook' a 'Modelo' y lo que está después de 'VivoBook' a 'Submodelo'\n",
    "        df.at[index, 'Modelo'] = 'VivoBook'\n",
    "        df.at[index, 'Submodelo'] = parts[1].strip()  # Eliminamos los espacios en blanco alrededor de la cadena\n",
    "    else:\n",
    "        # Si 'VivoBook' no está en la entrada, no hacemos ningún cambio en esa fila\n",
    "        continue"
   ]
  },
  {
   "cell_type": "code",
   "execution_count": 38,
   "metadata": {},
   "outputs": [],
   "source": [
    "# Iteramos sobre cada fila del DataFrame\n",
    "for index, row in df.iterrows():\n",
    "    # Si la entrada en la columna 'Company' no es 'Asus', pasamos a la siguiente fila\n",
    "    if row['Company'] != 'Asus':\n",
    "        continue\n",
    "    \n",
    "    # Verificamos si la entrada en la columna 'Product' contiene 'Zenbook'\n",
    "    if 'ZenBook' in row['Product']:\n",
    "        # Asignamos 'ZenBook' a 'Modelo'\n",
    "        df.at[index, 'Modelo'] = 'ZenBook'\n",
    "        # Asignamos el resto de la entrada en 'Product' a 'Submodelo'\n",
    "        df.at[index, 'Submodelo'] = row['Product'].split('ZenBook', 1)[1].strip()  # Eliminamos los espacios en blanco alrededor de la cadena\n",
    "    elif 'Zenbook' in row['Product']:\n",
    "        # Asignamos 'Zenbook' a 'Modelo'\n",
    "        df.at[index, 'Modelo'] = 'Zenbook'\n",
    "        # Asignamos el resto de la entrada en 'Product' a 'Submodelo'\n",
    "        df.at[index, 'Submodelo'] = row['Product'].split('Zenbook', 1)[1].strip()  # Eliminamos los espacios en blanco alrededor de la cadena\n",
    "    else:\n",
    "        # Si 'Zenbook' no está en la entrada, no hacemos ningún cambio en esa fila\n",
    "        continue\n"
   ]
  },
  {
   "cell_type": "code",
   "execution_count": 39,
   "metadata": {},
   "outputs": [],
   "source": [
    "# Iteramos sobre cada fila del DataFrame\n",
    "for index, row in df.iterrows():\n",
    "    # Si la entrada en la columna 'Company' no es 'Lenovo', pasamos a la siguiente fila\n",
    "    if row['Company'] != 'Lenovo':\n",
    "        continue\n",
    "    \n",
    "    # Verificamos si la entrada en la columna 'Product' contiene 'Yoga' pero no 'ThinkPad'\n",
    "    if 'Yoga' in row['Product'] and 'ThinkPad' not in row['Product']:\n",
    "        # Asignamos 'Yoga' a 'Modelo'\n",
    "        df.at[index, 'Modelo'] = 'Yoga'\n",
    "        # Asignamos el resto de la entrada en 'Product' a 'Submodelo'\n",
    "        df.at[index, 'Submodelo'] = row['Product'].split('Yoga', 1)[1].strip()  # Eliminamos los espacios en blanco alrededor de la cadena\n",
    "    else:\n",
    "        # Si 'Yoga' no está en la entrada o si 'ThinkPad' está presente, no hacemos ningún cambio en esa fila\n",
    "        continue\n"
   ]
  },
  {
   "cell_type": "code",
   "execution_count": 40,
   "metadata": {},
   "outputs": [],
   "source": [
    "# Iteramos sobre cada fila del DataFrame\n",
    "for index, row in df.iterrows():\n",
    "    # Si la entrada en la columna 'Company' no es 'Lenovo', pasamos a la siguiente fila\n",
    "    if row['Company'] != 'Lenovo':\n",
    "        continue\n",
    "    \n",
    "    # Verificamos si la entrada en la columna 'Product' contiene 'Legion'\n",
    "    if 'Legion' in row['Product']:\n",
    "        # Asignamos 'legion' a 'Modelo' (en minúsculas)\n",
    "        df.at[index, 'Modelo'] = 'legion'\n",
    "        # Asignamos el resto de la entrada en 'Product' a 'Submodelo'\n",
    "        df.at[index, 'Submodelo'] = row['Product'].split('Legion', 1)[1].strip()  # Eliminamos los espacios en blanco alrededor de la cadena\n",
    "    else:\n",
    "        # Si 'Legion' no está en la entrada, no hacemos ningún cambio en esa fila\n",
    "        continue\n"
   ]
  },
  {
   "cell_type": "code",
   "execution_count": 41,
   "metadata": {},
   "outputs": [],
   "source": [
    "df.at[538, 'Modelo'] = 'Vivobook'\n",
    "df.at[538, 'Submodelo'] = 'E200HA'\n",
    "df.at[564, 'Modelo'] = 'Vivobook'\n",
    "df.at[564, 'Submodelo'] = 'Max'\n",
    "df.at[264, 'Modelo'] = 'Chromebook'\n",
    "df.at[264, 'Submodelo'] = 'Flip'\n",
    "df.at[566, 'Modelo'] = 'Chromebook'\n",
    "df.at[566, 'Submodelo'] = 'Flip'\n",
    "df.at[354, 'Modelo'] = 'Chromebook'\n",
    "df.at[354, 'Submodelo'] = 'N23'\n",
    "df.at[437, 'Modelo'] = 'Flex'\n",
    "df.at[437, 'Submodelo'] = '5'\n",
    "df.at[277, 'Modelo'] = 'Thinkpad'\n",
    "df.at[277, 'Submodelo'] = 'Yoga'\n",
    "df.at[393, 'Modelo'] = 'Thinkpad'\n",
    "df.at[393, 'Submodelo'] = 'Yoga'\n",
    "df.at[64, 'Submodelo'] = 'Sin_submodelo'\n",
    "df.at[357, 'Submodelo'] = 'Sin_submodelo'\n",
    "df.at[489, 'Submodelo'] = 'Sin_submodelo'\n",
    "df.at[675, 'Submodelo'] = 'Sin_submodelo'\n",
    "df.at[384, 'Submodelo'] = 'Sin_submodelo' \n",
    "df.at[150, 'Modelo'] = 'ZenBook'\n",
    "df.at[15, 'Submodelo'] = 'GV350T'"
   ]
  },
  {
   "cell_type": "code",
   "execution_count": 42,
   "metadata": {},
   "outputs": [],
   "source": [
    "df.replace(to_replace=\"Portégé\", value=\"Portege\", inplace=True)"
   ]
  },
  {
   "cell_type": "code",
   "execution_count": 43,
   "metadata": {},
   "outputs": [],
   "source": [
    "for index, row in df.iterrows():\n",
    "    # Si la entrada en la columna 'Company' no es 'Asus', pasamos a la siguiente fila\n",
    "    if row['Company'] != 'Asus':\n",
    "        continue\n",
    "    \n",
    "    # Verificamos si la entrada en la columna 'Product' contiene 'Rog' o 'ROG'\n",
    "    if 'Rog' in row['Product'] or 'ROG' in row['Product']:\n",
    "        # Asignamos 'Rog' o 'ROG' a 'Modelo' según la entrada en 'Product'\n",
    "        if 'Rog' in row['Product']:\n",
    "            df.at[index, 'Modelo'] = 'Rog'\n",
    "        else:\n",
    "            df.at[index, 'Modelo'] = 'ROG'\n",
    "        # Asignamos el resto de la entrada en 'Product' a 'Submodelo'\n",
    "        submodelo_index = max(row['Product'].find('Rog'), row['Product'].find('ROG')) + len('Rog')  # Encuentra la última ocurrencia de 'Rog' o 'ROG'\n",
    "        df.at[index, 'Submodelo'] = row['Product'][submodelo_index:].strip()  # Elimina los espacios en blanco alrededor de la cadena\n",
    "    else:\n",
    "        # Si 'Rog' o 'ROG' no están en la entrada, no hacemos ningún cambio en esa fila\n",
    "        continue"
   ]
  },
  {
   "cell_type": "code",
   "execution_count": 44,
   "metadata": {},
   "outputs": [],
   "source": [
    "for index, row in df.iterrows():\n",
    "    # Si la entrada en la columna 'Company' no es 'Lenovo', pasamos a la siguiente fila\n",
    "    if row['Company'] != 'Lenovo':\n",
    "        continue\n",
    "    \n",
    "    # Verificamos si la entrada en la columna 'Product' contiene 'Thinkpad' y no contiene 'Yoga'\n",
    "    if 'Thinkpad' in row['Product'] and 'Yoga' not in row['Product']:\n",
    "        # Asignamos 'Thinkpad' a 'Modelo'\n",
    "        df.at[index, 'Modelo'] = 'Thinkpad'\n",
    "        # Asignamos el resto de la entrada en 'Product' a 'Submodelo'\n",
    "        submodelo_index = row['Product'].find('Thinkpad') + len('Thinkpad')\n",
    "        df.at[index, 'Submodelo'] = row['Product'][submodelo_index:].strip()  # Eliminamos los espacios en blanco alrededor de la cadena\n",
    "    else:\n",
    "        # Si 'Thinkpad' no está en la entrada o si 'Yoga' está presente, no hacemos ningún cambio en esa fila\n",
    "        continue"
   ]
  },
  {
   "cell_type": "code",
   "execution_count": 45,
   "metadata": {},
   "outputs": [],
   "source": [
    "# Iteramos sobre cada fila del DataFrame\n",
    "for index, row in df.iterrows():\n",
    "    # Si la entrada en la columna 'Company' no es 'Lenovo', pasamos a la siguiente fila\n",
    "    if row['Company'] != 'Lenovo':\n",
    "        continue\n",
    "    \n",
    "    # Verificamos si la entrada en la columna 'Product' contiene 'IdeaPad'\n",
    "    if 'IdeaPad' in row['Product']:\n",
    "        # Asignamos 'IdeaPad' a 'Modelo'\n",
    "        df.at[index, 'Modelo'] = 'IdeaPad'\n",
    "        # Asignamos el resto de la entrada en 'Product' a 'Submodelo'\n",
    "        submodelo_index = row['Product'].find('IdeaPad') + len('IdeaPad')\n",
    "        df.at[index, 'Submodelo'] = row['Product'][submodelo_index:].strip()  # Eliminamos los espacios en blanco alrededor de la cadena\n",
    "    else:\n",
    "        # Si 'IdeaPad' no está en la entrada, no hacemos ningún cambio en esa fila\n",
    "        continue\n"
   ]
  },
  {
   "cell_type": "code",
   "execution_count": 46,
   "metadata": {},
   "outputs": [],
   "source": [
    "df['Submodelo'].fillna('Sin_submodelo', inplace=True)\n",
    "df['Submodelo'].replace('none', 'Sin_submodelo', inplace=True)\n",
    "df['Submodelo'].replace(' ', 'Sin_submodelo', inplace=True) \n",
    "df['Submodelo'] = df['Submodelo'].apply(lambda x: 'Sin_submodelo' if pd.isna(x) or x.lower() == 'none' else x)"
   ]
  },
  {
   "cell_type": "code",
   "execution_count": 47,
   "metadata": {},
   "outputs": [],
   "source": [
    "df.replace(to_replace=\"Rog\", value=\"ROG\", inplace=True)"
   ]
  },
  {
   "cell_type": "code",
   "execution_count": 48,
   "metadata": {},
   "outputs": [],
   "source": [
    "for index, row in df.iterrows():\n",
    "    # Buscar la cadena \"Ideapad\" en la columna \"Modelo\"\n",
    "    if 'Ideapad' in row['Modelo']:\n",
    "        # Separar \"Ideapad\" del submodelo\n",
    "        partes = row['Modelo'].split(' ', 1)\n",
    "        # Dejar \"Ideapad\" en la columna \"Modelo\"\n",
    "        df.at[index, 'Modelo'] = partes[0]\n",
    "        # Poner el submodelo en la columna \"Submodelo\"\n",
    "        if len(partes) > 1:\n",
    "            df.at[index, 'Submodelo'] = partes[1]\n"
   ]
  },
  {
   "cell_type": "code",
   "execution_count": 49,
   "metadata": {},
   "outputs": [],
   "source": [
    "df.at[373, 'Modelo'] = 'Zenbook'\n",
    "df.at[373, 'Submodelo'] = 'CN269T' \n",
    "\n",
    "df.at[191, 'Modelo'] = 'VivoBook'\n",
    "df.at[191, 'Submodelo'] = 'X542UQ-DM117' \n",
    "\n",
    "df.at[222, 'Modelo'] = 'VivoBook'\n",
    "df.at[222, 'Submodelo'] = '17 X705' \n",
    "\n",
    "df.at[223, 'Modelo'] = 'Phantom'\n",
    "df.at[223, 'Submodelo'] = 'Pro' \n",
    "\n",
    "df.at[232, 'Modelo'] = 'Leopard'\n",
    "df.at[232, 'Submodelo'] = 'Pro' \n",
    "\n",
    "df.at[190, 'Modelo'] = 'ROG'\n",
    "df.at[190, 'Submodelo'] = 'FX502VM' \n",
    "\n",
    "df.at[295, 'Modelo'] = 'flip'\n",
    "df.at[295, 'Submodelo'] = 'Sin_submodelo' \n",
    "\n",
    "df.at[330, 'Modelo'] = 'VivoBook'\n",
    "df.at[330, 'Submodelo'] = 'X751NV-TY001' \n",
    "\n",
    "df.at[366, 'Modelo'] = 'Leopard'\n",
    "df.at[366, 'Submodelo'] = 'GP62' \n",
    "\n",
    "df.at[180, 'Modelo'] = 'Spin'\n",
    "df.at[180, 'Submodelo'] = 'SP714-51' \n",
    "\n",
    "df.at[620, 'Modelo'] = 'Phantom'\n",
    "df.at[620, 'Submodelo'] = 'GS40' \n",
    "\n",
    "df.at[636, 'Modelo'] = 'Vivobook'\n",
    "df.at[636, 'Submodelo'] = 'X556UJ' \n",
    "\n",
    "df.at[631, 'Modelo'] = 'Stealth'\n",
    "df.at[631, 'Submodelo'] = 'Pro' \n",
    "\n",
    "df.at[555, 'Modelo'] = 'ROG'\n",
    "df.at[555, 'Submodelo'] = 'G752VY' \n",
    "\n",
    "df.at[544, 'Modelo'] = 'Ghost'\n",
    "df.at[544, 'Submodelo'] = 'GS60' \n",
    "\n",
    "df.at[543, 'Modelo'] = 'VivoBook'\n",
    "df.at[543, 'Submodelo'] = 'X541UV' \n",
    "\n",
    "df.at[10, 'Modelo'] = 'Vivobook'\n",
    "df.at[10, 'Submodelo'] = 'X540SA' \n",
    "\n",
    "df.at[600, 'Modelo'] = 'Vivobook'\n",
    "df.at[600, 'Submodelo'] = 'X540SA' \n",
    "\n",
    "df.at[8, 'Modelo'] = 'Zenbook'\n",
    "df.at[8, 'Submodelo'] = 'UX430UQ' \n",
    "\n",
    "df.at[667, 'Modelo'] = 'Pavilion'\n",
    "df.at[667, 'Submodelo'] = 'Sin_submodelo' \n",
    "\n",
    "df.at[687, 'Modelo'] = 'Apache'\n",
    "df.at[687, 'Submodelo'] = 'Pro' \n",
    "\n",
    "df.at[788, 'Modelo'] = 'Apache'\n",
    "df.at[788, 'Submodelo'] = 'Pro' \n",
    "\n",
    "df.at[796, 'Modelo'] = 'Lapbook'\n",
    " \n",
    "\n",
    "\n",
    "df.at[811, 'Modelo'] = 'Zenbook'\n",
    "df.at[811, 'Submodelo'] = 'UX410UA' \n",
    "\n",
    "\n",
    "df.at[839, 'Modelo'] = 'Stealth'\n",
    "df.at[839, 'Submodelo'] = 'Pro' \n",
    "\n",
    "df.at[863, 'Modelo'] = 'Travelmate'\n",
    "\n",
    "df.at[544, 'Submodelo'] = 'Pro GS60' \n",
    "\n",
    "df.at[884, 'Modelo'] = 'Vivobook'\n",
    "df.at[884, 'Submodelo'] = 'X505BP' \n",
    "\n",
    "df.at[528, 'Modelo'] = 'Vivobook'\n",
    "df.at[528, 'Submodelo'] = 'R417NA-RS01' \n",
    "\n",
    "df.at[515, 'Modelo'] = 'Chromebook'\n",
    "df.at[515, 'Submodelo'] = 'C740-C9QX' \n",
    "\n",
    "df.at[168, 'Modelo'] = 'GE73VR'\n",
    "df.at[168, 'Submodelo'] = 'Raider' \n",
    "\n",
    "df.at[110, 'Modelo'] = 'Apache'\n",
    "df.at[110, 'Submodelo'] = 'Pro' \n",
    "\n",
    "df.at[183, 'Modelo'] = 'Leopard'\n",
    "df.at[183, 'Submodelo'] = 'Pro' \n",
    "\n",
    "\n",
    "df.at[104, 'Submodelo'] = 'Titan' \n",
    "\n",
    "df.at[31, 'Modelo'] = 'rog'\n",
    "df.at[31, 'Submodelo'] = 'GL553VE' \n",
    "\n",
    "df.at[440, 'Modelo'] = 'Leopard'\n",
    "df.at[440, 'Submodelo'] = 'Pro' \n",
    "\n",
    "df.at[449, 'Modelo'] = 'Leopard'\n",
    "df.at[449, 'Submodelo'] = 'Pro' \n",
    "\n",
    "\n",
    "\n",
    "\n",
    "\n"
   ]
  },
  {
   "cell_type": "code",
   "execution_count": 50,
   "metadata": {},
   "outputs": [
    {
     "data": {
      "text/html": [
       "<div>\n",
       "<style scoped>\n",
       "    .dataframe tbody tr th:only-of-type {\n",
       "        vertical-align: middle;\n",
       "    }\n",
       "\n",
       "    .dataframe tbody tr th {\n",
       "        vertical-align: top;\n",
       "    }\n",
       "\n",
       "    .dataframe thead th {\n",
       "        text-align: right;\n",
       "    }\n",
       "</style>\n",
       "<table border=\"1\" class=\"dataframe\">\n",
       "  <thead>\n",
       "    <tr style=\"text-align: right;\">\n",
       "      <th></th>\n",
       "      <th>TypeName</th>\n",
       "      <th>Company</th>\n",
       "      <th>Product</th>\n",
       "      <th>Modelo</th>\n",
       "      <th>Submodelo</th>\n",
       "    </tr>\n",
       "  </thead>\n",
       "  <tbody>\n",
       "  </tbody>\n",
       "</table>\n",
       "</div>"
      ],
      "text/plain": [
       "Empty DataFrame\n",
       "Columns: [TypeName, Company, Product, Modelo, Submodelo]\n",
       "Index: []"
      ]
     },
     "execution_count": 50,
     "metadata": {},
     "output_type": "execute_result"
    }
   ],
   "source": [
    "filtered_df = df[df['Product'] == 'portégé z30-c-188']\n",
    "\n",
    "# Selecciona solo las columnas 'Company', 'Product', 'Modelo' y 'Submodelo'\n",
    "selected_columns_df = filtered_df[['TypeName','Company', 'Product', 'Modelo', 'Submodelo']]\n",
    "\n",
    "selected_columns_df"
   ]
  },
  {
   "cell_type": "code",
   "execution_count": 124,
   "metadata": {},
   "outputs": [],
   "source": [
    "#df[['Company','Product', 'Modelo', 'Submodelo']].sort_values(by='Modelo') #Lo comentamos para que no se haga tan largo"
   ]
  },
  {
   "cell_type": "markdown",
   "metadata": {},
   "source": [
    "Lo pondremos todo en minusculas."
   ]
  },
  {
   "cell_type": "code",
   "execution_count": 52,
   "metadata": {},
   "outputs": [],
   "source": [
    "df['Product'] = df['Product'].str.lower()\n",
    "df['Modelo'] = df['Modelo'].str.lower()\n",
    "df['Submodelo'] = df['Submodelo'].str.lower()"
   ]
  },
  {
   "cell_type": "code",
   "execution_count": 127,
   "metadata": {},
   "outputs": [
    {
     "data": {
      "text/plain": [
       "Modelo\n",
       "inspiron       99\n",
       "thinkpad       72\n",
       "ideapad        69\n",
       "probook        51\n",
       "aspire         46\n",
       "elitebook      39\n",
       "latitude       35\n",
       "xps            28\n",
       "rog            28\n",
       "vostro         27\n",
       "15             25\n",
       "yoga           25\n",
       "vivobook       22\n",
       "zenbook        22\n",
       "250            21\n",
       "macbook        17\n",
       "chromebook     16\n",
       "tecra          14\n",
       "legion         13\n",
       "portege        13\n",
       "alienware      12\n",
       "satellite      10\n",
       "zbook          10\n",
       "v110           10\n",
       "pavilion        9\n",
       "v310            7\n",
       "swift           7\n",
       "17              7\n",
       "omen            7\n",
       "leopard         6\n",
       "spectre         6\n",
       "smartbook       6\n",
       "blade           6\n",
       "precision       6\n",
       "notebook        5\n",
       "envy            5\n",
       "spin            4\n",
       "travelmate      4\n",
       "gl62m           4\n",
       "stream          4\n",
       "x541na          4\n",
       "pro p2540ua     4\n",
       "x553sa          4\n",
       "apache          3\n",
       "v330            3\n",
       "x541na          3\n",
       "mi              3\n",
       "lifebook        3\n",
       "predator        3\n",
       "b51             3\n",
       "surface         3\n",
       "pixelbook       2\n",
       "gs73vr          2\n",
       "fx553vd         2\n",
       "fx753ve         2\n",
       "phantom         2\n",
       "stealth         2\n",
       "fx753vd         2\n",
       "lapbook         2\n",
       "e402wa          2\n",
       "gp62m           2\n",
       "gt62vr          2\n",
       "ge63vr          2\n",
       "ge73vr          1\n",
       "ge62            1\n",
       "v142            1\n",
       "n23             1\n",
       "gt72vr          1\n",
       "x540ua          1\n",
       "255             1\n",
       "gl72m           1\n",
       "fx550ik         1\n",
       "ghost           1\n",
       "l403na          1\n",
       "gt80s           1\n",
       "nitro           1\n",
       "extensa         1\n",
       "x556uj          1\n",
       "x751sv          1\n",
       "k756ux          1\n",
       "k147            1\n",
       "flexbook        1\n",
       "gt73vr          1\n",
       "x541ua          1\n",
       "l502na          1\n",
       "gram            1\n",
       "v320            1\n",
       "laptop          1\n",
       "x555qg          1\n",
       "gt73evr         1\n",
       "v510            1\n",
       "flip            1\n",
       "k146            1\n",
       "fx503vm         1\n",
       "matebook        1\n",
       "flex            1\n",
       "n42             1\n",
       "14              1\n",
       "Name: count, dtype: int64"
      ]
     },
     "execution_count": 127,
     "metadata": {},
     "output_type": "execute_result"
    }
   ],
   "source": [
    "df['Modelo'].value_counts()"
   ]
  },
  {
   "cell_type": "code",
   "execution_count": 126,
   "metadata": {},
   "outputs": [
    {
     "data": {
      "text/html": [
       "<div>\n",
       "<style scoped>\n",
       "    .dataframe tbody tr th:only-of-type {\n",
       "        vertical-align: middle;\n",
       "    }\n",
       "\n",
       "    .dataframe tbody tr th {\n",
       "        vertical-align: top;\n",
       "    }\n",
       "\n",
       "    .dataframe thead th {\n",
       "        text-align: right;\n",
       "    }\n",
       "</style>\n",
       "<table border=\"1\" class=\"dataframe\">\n",
       "  <thead>\n",
       "    <tr style=\"text-align: right;\">\n",
       "      <th></th>\n",
       "      <th>id</th>\n",
       "      <th>Company</th>\n",
       "      <th>Product</th>\n",
       "      <th>TypeName</th>\n",
       "      <th>Inches</th>\n",
       "      <th>ScreenResolution</th>\n",
       "      <th>Cpu</th>\n",
       "      <th>Ram (GB)</th>\n",
       "      <th>Memory</th>\n",
       "      <th>Gpu</th>\n",
       "      <th>OpSys</th>\n",
       "      <th>Weight (Kg)</th>\n",
       "      <th>Price_euros</th>\n",
       "      <th>Modelo</th>\n",
       "      <th>Submodelo</th>\n",
       "      <th>Resolucion_X</th>\n",
       "      <th>Resolucion_Y</th>\n",
       "      <th>Tactil</th>\n",
       "      <th>PANEL IPS</th>\n",
       "      <th>Retina Display</th>\n",
       "      <th>Definicion</th>\n",
       "      <th>Marca_Cpu</th>\n",
       "      <th>Potencia_Cpu(GHz)</th>\n",
       "      <th>Modelo_Cpu</th>\n",
       "      <th>Submodelo_Cpu</th>\n",
       "      <th>Memoria_Principal(GB)</th>\n",
       "      <th>Tipo_mem_principal</th>\n",
       "      <th>Memoria_Secundario(GB)</th>\n",
       "      <th>Tipo_mem_secundario</th>\n",
       "      <th>Marca_Gpu</th>\n",
       "      <th>Modelo_Gpu</th>\n",
       "      <th>Submodelo_Gpu</th>\n",
       "    </tr>\n",
       "  </thead>\n",
       "  <tbody>\n",
       "    <tr>\n",
       "      <th>270</th>\n",
       "      <td>308</td>\n",
       "      <td>MSI</td>\n",
       "      <td>laptop msi</td>\n",
       "      <td>Gaming</td>\n",
       "      <td>17.3</td>\n",
       "      <td>Full HD 1920x1080</td>\n",
       "      <td>intel core i7 6820hk 2.7ghz</td>\n",
       "      <td>16</td>\n",
       "      <td>128GB SSD +  1TB HDD</td>\n",
       "      <td>Nvidia GeForce GTX 970M</td>\n",
       "      <td>Windows 10</td>\n",
       "      <td>4.14</td>\n",
       "      <td>2199.0</td>\n",
       "      <td>laptop</td>\n",
       "      <td>msi</td>\n",
       "      <td>1920</td>\n",
       "      <td>1080</td>\n",
       "      <td>False</td>\n",
       "      <td>False</td>\n",
       "      <td>False</td>\n",
       "      <td>Full HD</td>\n",
       "      <td>intel</td>\n",
       "      <td>2.7</td>\n",
       "      <td>core</td>\n",
       "      <td>i7 6820hk</td>\n",
       "      <td>128.0</td>\n",
       "      <td>SSD</td>\n",
       "      <td>1000.0</td>\n",
       "      <td>HDD</td>\n",
       "      <td>Nvidia</td>\n",
       "      <td>geforce</td>\n",
       "      <td>gtx 970m</td>\n",
       "    </tr>\n",
       "  </tbody>\n",
       "</table>\n",
       "</div>"
      ],
      "text/plain": [
       "      id Company     Product TypeName  Inches   ScreenResolution  \\\n",
       "270  308     MSI  laptop msi   Gaming    17.3  Full HD 1920x1080   \n",
       "\n",
       "                             Cpu  Ram (GB)                Memory  \\\n",
       "270  intel core i7 6820hk 2.7ghz        16  128GB SSD +  1TB HDD   \n",
       "\n",
       "                         Gpu       OpSys  Weight (Kg)  Price_euros  Modelo  \\\n",
       "270  Nvidia GeForce GTX 970M  Windows 10         4.14       2199.0  laptop   \n",
       "\n",
       "    Submodelo  Resolucion_X  Resolucion_Y  Tactil  PANEL IPS  Retina Display  \\\n",
       "270       msi          1920          1080   False      False           False   \n",
       "\n",
       "    Definicion Marca_Cpu  Potencia_Cpu(GHz) Modelo_Cpu Submodelo_Cpu  \\\n",
       "270    Full HD     intel                2.7       core     i7 6820hk   \n",
       "\n",
       "     Memoria_Principal(GB) Tipo_mem_principal  Memoria_Secundario(GB)  \\\n",
       "270                  128.0                SSD                  1000.0   \n",
       "\n",
       "    Tipo_mem_secundario Marca_Gpu Modelo_Gpu Submodelo_Gpu  \n",
       "270                 HDD    Nvidia    geforce      gtx 970m  "
      ]
     },
     "execution_count": 126,
     "metadata": {},
     "output_type": "execute_result"
    }
   ],
   "source": [
    "df[df['Submodelo'] == 'msi']"
   ]
  },
  {
   "cell_type": "markdown",
   "metadata": {},
   "source": []
  },
  {
   "cell_type": "markdown",
   "metadata": {},
   "source": []
  },
  {
   "cell_type": "markdown",
   "metadata": {},
   "source": [
    "## 5ª columna: \"TypeName\"."
   ]
  },
  {
   "cell_type": "code",
   "execution_count": 54,
   "metadata": {},
   "outputs": [
    {
     "data": {
      "text/plain": [
       "TypeName\n",
       "Notebook              522\n",
       "Gaming                138\n",
       "Ultrabook             135\n",
       "2 in 1 Convertible     85\n",
       "Workstation            18\n",
       "Netbook                14\n",
       "Name: count, dtype: int64"
      ]
     },
     "execution_count": 54,
     "metadata": {},
     "output_type": "execute_result"
    }
   ],
   "source": [
    "df['TypeName'].value_counts()"
   ]
  },
  {
   "cell_type": "markdown",
   "metadata": {},
   "source": [
    "> Vemos que no hay tipos de ordenador repetidos pero escritos de forma diferente.   \n",
    "'Netbook' pensé que era 'notebook' pero mal escrito, pero existen.   \n",
    "De momento no requiere ningún cambio, más adelante la convertiremos en numérico.  "
   ]
  },
  {
   "cell_type": "code",
   "execution_count": 55,
   "metadata": {},
   "outputs": [
    {
     "data": {
      "image/png": "[encoded data removed]",
      "text/plain": [
       "<Figure size 1000x600 with 1 Axes>"
      ]
     },
     "metadata": {},
     "output_type": "display_data"
    }
   ],
   "source": [
    "plt.figure(figsize=(10, 6))\n",
    "sns.barplot(x='TypeName', y='Price_euros', data=df)\n",
    "plt.title('Precio según tipos')\n",
    "plt.xlabel('Tipos')\n",
    "plt.ylabel('Precios')\n",
    "plt.show()"
   ]
  },
  {
   "cell_type": "code",
   "execution_count": 56,
   "metadata": {},
   "outputs": [
    {
     "name": "stdout",
     "output_type": "stream",
     "text": [
      "Resultado del ANOVA:\n",
      "F_onewayResult(statistic=118.29991637097596, pvalue=2.496534706156228e-96)\n"
     ]
    }
   ],
   "source": [
    "anova_result = stats.f_oneway(*[df['Price_euros'][df['TypeName'] == category] for category in df['TypeName'].unique()])\n",
    "\n",
    "# Imprimir el resultado\n",
    "print(\"Resultado del ANOVA:\")\n",
    "print(anova_result)"
   ]
  },
  {
   "cell_type": "markdown",
   "metadata": {},
   "source": [
    "> Viendo la gráfica, observamos que hay diferencias, aunque como hemos dicho antes, puede que las diferencias no dependan directamente del tipo de ordenador del que se trate y dependan más de otras características (como los componentes).\n",
    "Esto se refuerza con los resultados de la prueba ANOVA. Vemos que en network y workstation la desviación típica es más grande que en los demás.\n",
    "No eliminaremos, al menos por el momento, dicha columna, ya que puede ser de utilidad para el modelo predictivo.\n",
    "\n",
    "\n",
    "\n",
    "\n",
    "\n"
   ]
  },
  {
   "cell_type": "markdown",
   "metadata": {},
   "source": [
    "## 6ª columna: \"'Inches'\"."
   ]
  },
  {
   "cell_type": "code",
   "execution_count": 57,
   "metadata": {},
   "outputs": [],
   "source": [
    "#df['Inches'].value_counts()"
   ]
  },
  {
   "cell_type": "markdown",
   "metadata": {},
   "source": [
    "> Ya están en numéricas, además no tiene nada que parezca que necesite ser arreglado, veamos si hay relacion."
   ]
  },
  {
   "cell_type": "code",
   "execution_count": 58,
   "metadata": {},
   "outputs": [
    {
     "data": {
      "image/png": "[encoded data removed]",
      "text/plain": [
       "<Figure size 640x480 with 1 Axes>"
      ]
     },
     "metadata": {},
     "output_type": "display_data"
    },
    {
     "name": "stdout",
     "output_type": "stream",
     "text": [
      "La correlación entre las pulgadas de la pantalla, en la columna Inches', y  el precio en la columna 'Price_euros' es 0.07779808279053775\n"
     ]
    }
   ],
   "source": [
    "sns.scatterplot(data=df, x='Inches', y='Price_euros')\n",
    "plt.show()\n",
    "\n",
    "\n",
    "correlacion = df['Inches'].corr(df['Price_euros'])\n",
    "print(\"La correlación entre las pulgadas de la pantalla, en la columna Inches', y  el precio en la columna 'Price_euros' es\", correlacion)"
   ]
  },
  {
   "cell_type": "markdown",
   "metadata": {},
   "source": [
    "> Vemos que la gráfica 'hace una cuesta' hacia arriba, o sea, que se ve que los ordenadores más caros de más pulgadas,  \n",
    "son más caros que los ordenadores más caros con menos pulgadas, pero la correlación es pequeña. Puede que lo que hace  \n",
    "caro no sea el tamaño en sí, sino que los ordenadores más grandes tengan, por regla general, componentes más caros."
   ]
  },
  {
   "cell_type": "markdown",
   "metadata": {},
   "source": [
    "## 7ª columna: \"ScreenResolution\"."
   ]
  },
  {
   "cell_type": "code",
   "execution_count": 59,
   "metadata": {},
   "outputs": [],
   "source": [
    "#df['ScreenResolution'].value_counts()"
   ]
  },
  {
   "cell_type": "markdown",
   "metadata": {},
   "source": [
    "> La columna 'ScreenResolution' tiene mucha información, por lo que la iremos dividiendo en distintas columnas."
   ]
  },
  {
   "cell_type": "code",
   "execution_count": 60,
   "metadata": {},
   "outputs": [],
   "source": [
    "df['Resolucion'] = df['ScreenResolution'].str.extract(r'(\\d{3,4}x\\d{3,4})') #Con esto creamos una columna con la resolución."
   ]
  },
  {
   "cell_type": "code",
   "execution_count": 61,
   "metadata": {},
   "outputs": [],
   "source": [
    "#df['Resolucion'].value_counts()"
   ]
  },
  {
   "cell_type": "markdown",
   "metadata": {},
   "source": [
    "Dividiremos en dos la columna \"Resolución\" y la haremos numérica."
   ]
  },
  {
   "cell_type": "code",
   "execution_count": 62,
   "metadata": {},
   "outputs": [],
   "source": [
    "df[['Resolucion_X', 'Resolucion_Y']] = df['Resolucion'].str.split('x', expand=True)\n",
    "\n",
    "# Convertimos las nuevas columnas en valores numéricos\n",
    "df['Resolucion_X'] = pd.to_numeric(df['Resolucion_X'])\n",
    "df['Resolucion_Y'] = pd.to_numeric(df['Resolucion_Y'])\n"
   ]
  },
  {
   "cell_type": "code",
   "execution_count": 63,
   "metadata": {},
   "outputs": [],
   "source": [
    "df['Tactil'] = False #Se crea una columna con tadas las entradas a 0, o sea... false.\n",
    "df.loc[df['ScreenResolution'].str.contains('touchscreen', case=False), 'Tactil'] = True #Si en la columna ScreenResolution aparece 'touchscreen' se cambiara a True, o sea, verdadero"
   ]
  },
  {
   "cell_type": "code",
   "execution_count": 64,
   "metadata": {},
   "outputs": [],
   "source": [
    "df['PANEL IPS'] = False #Se crea una columna con tadas las entradas a 0, o sea... false.\n",
    "df.loc[df['ScreenResolution'].str.contains('IPS Panel', case=False), 'PANEL IPS'] = True #Si en la columna ScreenResolution aparece 'IPS Panel' se cambiara a 1, o sea, verdadero"
   ]
  },
  {
   "cell_type": "code",
   "execution_count": 65,
   "metadata": {},
   "outputs": [],
   "source": [
    "df['Retina Display'] = False #Se crea una columna con tadas las entradas a 0, o sea... false.\n",
    "df.loc[df['ScreenResolution'].str.contains('Retina Display', case=False), 'Retina Display'] = True #Si en la columna ScreenResolution aparece 'Quad HD+' se cambiara a 1, o sea, verdadero"
   ]
  },
  {
   "cell_type": "markdown",
   "metadata": {},
   "source": [
    "> Sabemos que hay 17 entradas de la marca Apple. La pantalla 'Retina' es de Apple.  \n",
    "Si hay 17, podemos eliminarla, puesto que esta información ya aparece en la columna marca."
   ]
  },
  {
   "cell_type": "code",
   "execution_count": 66,
   "metadata": {},
   "outputs": [
    {
     "data": {
      "text/plain": [
       "Retina Display\n",
       "False    898\n",
       "True      14\n",
       "Name: count, dtype: int64"
      ]
     },
     "execution_count": 66,
     "metadata": {},
     "output_type": "execute_result"
    }
   ],
   "source": [
    "df['Retina Display'].value_counts()"
   ]
  },
  {
   "cell_type": "markdown",
   "metadata": {},
   "source": [
    "> Hay 3 ordenadores Apple sin pantalla Retina, por lo que no podemos eliminarla."
   ]
  },
  {
   "cell_type": "code",
   "execution_count": 67,
   "metadata": {},
   "outputs": [],
   "source": [
    "df['Full HD'] = 0 #Se crea una columna con tadas las entradas a 0, o sea... false.\n",
    "df.loc[df['ScreenResolution'].str.contains('Full HD', case=False), 'Full HD'] = 1 #Si en la columna ScreenResolution aparece 'Full HD' se cambiara a 1, o sea, verdadero"
   ]
  },
  {
   "cell_type": "code",
   "execution_count": 68,
   "metadata": {},
   "outputs": [],
   "source": [
    "df['4K Ultra HD'] = 0 #Se crea una columna con tadas las entradas a 0, o sea... false.\n",
    "df.loc[df['ScreenResolution'].str.contains('4K Ultra HD', case=False), '4K Ultra HD'] = 1 #Si en la columna ScreenResolution aparece '4K Ultra HD' se cambiara a 1, o sea, verdadero"
   ]
  },
  {
   "cell_type": "code",
   "execution_count": 69,
   "metadata": {},
   "outputs": [],
   "source": [
    "df['Quad HD+'] = 0 #Se crea una columna con tadas las entradas a 0, o sea... false.\n",
    "df.loc[df['ScreenResolution'].str.contains('Quad HD+', case=False), 'Quad HD+'] = 1 #Si en la columna ScreenResolution aparece 'Quad HD+' se cambiara a 1, o sea, verdadero"
   ]
  },
  {
   "cell_type": "markdown",
   "metadata": {},
   "source": [
    "Ahora crearemos una columna \"Definicion\" que diga \"Full HD\" , \"4K Ultra HD\" o \"Quad HD+\" y despues eliminaremos las 3 anteriores."
   ]
  },
  {
   "cell_type": "code",
   "execution_count": 70,
   "metadata": {},
   "outputs": [],
   "source": [
    "df['Definicion'] = ''\n",
    "df.loc[df['Full HD'] == 1, 'Definicion'] = 'Full HD'\n",
    "df.loc[df['4K Ultra HD'] == 1, 'Definicion'] = '4K Ultra HD'\n",
    "df.loc[df['Quad HD+'] == 1, 'Definicion'] = 'Quad HD+'\n",
    "df['Definicion'] = df['Definicion'].replace('', 'No especificado')\n"
   ]
  },
  {
   "cell_type": "code",
   "execution_count": 71,
   "metadata": {},
   "outputs": [],
   "source": [
    "#df['Definicion'].value_counts()"
   ]
  },
  {
   "cell_type": "markdown",
   "metadata": {},
   "source": [
    "La definicion (Full HD, 4k...) depende de la resolucion, vemaos si podemos eliminar la columna definicion."
   ]
  },
  {
   "cell_type": "code",
   "execution_count": 72,
   "metadata": {},
   "outputs": [
    {
     "data": {
      "text/plain": [
       "Resolucion\n",
       "1920x1080    579\n",
       "2160x1440      1\n",
       "1920x1200      1\n",
       "Name: count, dtype: int64"
      ]
     },
     "execution_count": 72,
     "metadata": {},
     "output_type": "execute_result"
    }
   ],
   "source": [
    "df_full_hd = df[df['Definicion'] == 'Full HD'] \n",
    "df_full_hd['Resolucion'].value_counts()"
   ]
  },
  {
   "cell_type": "markdown",
   "metadata": {},
   "source": [
    "Esto puede ser un poco problematico, segun chatgtp full hd es solo 1920x1080"
   ]
  },
  {
   "cell_type": "code",
   "execution_count": 73,
   "metadata": {},
   "outputs": [
    {
     "data": {
      "text/html": [
       "<div>\n",
       "<style scoped>\n",
       "    .dataframe tbody tr th:only-of-type {\n",
       "        vertical-align: middle;\n",
       "    }\n",
       "\n",
       "    .dataframe tbody tr th {\n",
       "        vertical-align: top;\n",
       "    }\n",
       "\n",
       "    .dataframe thead th {\n",
       "        text-align: right;\n",
       "    }\n",
       "</style>\n",
       "<table border=\"1\" class=\"dataframe\">\n",
       "  <thead>\n",
       "    <tr style=\"text-align: right;\">\n",
       "      <th></th>\n",
       "      <th>id</th>\n",
       "      <th>Company</th>\n",
       "      <th>Product</th>\n",
       "      <th>TypeName</th>\n",
       "      <th>Inches</th>\n",
       "      <th>ScreenResolution</th>\n",
       "      <th>Cpu</th>\n",
       "      <th>Ram</th>\n",
       "      <th>Memory</th>\n",
       "      <th>Gpu</th>\n",
       "      <th>OpSys</th>\n",
       "      <th>Weight</th>\n",
       "      <th>Price_euros</th>\n",
       "      <th>Modelo</th>\n",
       "      <th>Submodelo</th>\n",
       "      <th>Resolucion</th>\n",
       "      <th>Resolucion_X</th>\n",
       "      <th>Resolucion_Y</th>\n",
       "      <th>Tactil</th>\n",
       "      <th>PANEL IPS</th>\n",
       "      <th>Retina Display</th>\n",
       "      <th>Full HD</th>\n",
       "      <th>4K Ultra HD</th>\n",
       "      <th>Quad HD+</th>\n",
       "      <th>Definicion</th>\n",
       "    </tr>\n",
       "  </thead>\n",
       "  <tbody>\n",
       "    <tr>\n",
       "      <th>420</th>\n",
       "      <td>755</td>\n",
       "      <td>Huawei</td>\n",
       "      <td>matebook x</td>\n",
       "      <td>Ultrabook</td>\n",
       "      <td>13.0</td>\n",
       "      <td>IPS Panel Full HD 2160x1440</td>\n",
       "      <td>Intel Core i5 7200U 2.5GHz</td>\n",
       "      <td>8GB</td>\n",
       "      <td>256GB SSD</td>\n",
       "      <td>Intel HD Graphics 620</td>\n",
       "      <td>Windows 10</td>\n",
       "      <td>1.05kg</td>\n",
       "      <td>1349.0</td>\n",
       "      <td>matebook</td>\n",
       "      <td>x</td>\n",
       "      <td>2160x1440</td>\n",
       "      <td>2160</td>\n",
       "      <td>1440</td>\n",
       "      <td>False</td>\n",
       "      <td>True</td>\n",
       "      <td>False</td>\n",
       "      <td>1</td>\n",
       "      <td>0</td>\n",
       "      <td>0</td>\n",
       "      <td>Full HD</td>\n",
       "    </tr>\n",
       "    <tr>\n",
       "      <th>822</th>\n",
       "      <td>430</td>\n",
       "      <td>Mediacom</td>\n",
       "      <td>smartbook 142</td>\n",
       "      <td>Notebook</td>\n",
       "      <td>14.0</td>\n",
       "      <td>IPS Panel Full HD 1920x1200</td>\n",
       "      <td>Intel Atom Z8350 1.92GHz</td>\n",
       "      <td>4GB</td>\n",
       "      <td>32GB HDD</td>\n",
       "      <td>Intel HD Graphics 400</td>\n",
       "      <td>Windows 10</td>\n",
       "      <td>1.4kg</td>\n",
       "      <td>265.0</td>\n",
       "      <td>smartbook</td>\n",
       "      <td>142</td>\n",
       "      <td>1920x1200</td>\n",
       "      <td>1920</td>\n",
       "      <td>1200</td>\n",
       "      <td>False</td>\n",
       "      <td>True</td>\n",
       "      <td>False</td>\n",
       "      <td>1</td>\n",
       "      <td>0</td>\n",
       "      <td>0</td>\n",
       "      <td>Full HD</td>\n",
       "    </tr>\n",
       "  </tbody>\n",
       "</table>\n",
       "</div>"
      ],
      "text/plain": [
       "      id   Company        Product   TypeName  Inches  \\\n",
       "420  755    Huawei     matebook x  Ultrabook    13.0   \n",
       "822  430  Mediacom  smartbook 142   Notebook    14.0   \n",
       "\n",
       "                ScreenResolution                         Cpu  Ram     Memory  \\\n",
       "420  IPS Panel Full HD 2160x1440  Intel Core i5 7200U 2.5GHz  8GB  256GB SSD   \n",
       "822  IPS Panel Full HD 1920x1200    Intel Atom Z8350 1.92GHz  4GB   32GB HDD   \n",
       "\n",
       "                       Gpu       OpSys  Weight  Price_euros     Modelo  \\\n",
       "420  Intel HD Graphics 620  Windows 10  1.05kg       1349.0   matebook   \n",
       "822  Intel HD Graphics 400  Windows 10   1.4kg        265.0  smartbook   \n",
       "\n",
       "    Submodelo Resolucion  Resolucion_X  Resolucion_Y  Tactil  PANEL IPS  \\\n",
       "420         x  2160x1440          2160          1440   False       True   \n",
       "822       142  1920x1200          1920          1200   False       True   \n",
       "\n",
       "     Retina Display  Full HD  4K Ultra HD  Quad HD+ Definicion  \n",
       "420           False        1            0         0    Full HD  \n",
       "822           False        1            0         0    Full HD  "
      ]
     },
     "execution_count": 73,
     "metadata": {},
     "output_type": "execute_result"
    }
   ],
   "source": [
    "df_full_hd.loc[df_full_hd['Resolucion'].isin(['1920x1200', '2160x1440'])]"
   ]
  },
  {
   "cell_type": "code",
   "execution_count": 74,
   "metadata": {},
   "outputs": [
    {
     "data": {
      "text/plain": [
       "Resolucion\n",
       "3840x2160    34\n",
       "Name: count, dtype: int64"
      ]
     },
     "execution_count": 74,
     "metadata": {},
     "output_type": "execute_result"
    }
   ],
   "source": [
    "kkkk= df[df['Definicion'] == '4K Ultra HD'] \n",
    "kkkk['Resolucion'].value_counts()"
   ]
  },
  {
   "cell_type": "markdown",
   "metadata": {},
   "source": [
    "> Esto es bueno."
   ]
  },
  {
   "cell_type": "code",
   "execution_count": 75,
   "metadata": {},
   "outputs": [
    {
     "data": {
      "text/plain": [
       "Resolucion\n",
       "3200x1800    15\n",
       "2560x1440     1\n",
       "Name: count, dtype: int64"
      ]
     },
     "execution_count": 75,
     "metadata": {},
     "output_type": "execute_result"
    }
   ],
   "source": [
    "quad= df[df['Definicion'] == 'Quad HD+'] \n",
    "quad['Resolucion'].value_counts()"
   ]
  },
  {
   "cell_type": "markdown",
   "metadata": {},
   "source": [
    ">Segun chaty ambos pueden ser Quad HD+"
   ]
  },
  {
   "cell_type": "markdown",
   "metadata": {},
   "source": [
    "Ya podemos eliminar las columnas  las columnas temporales que creamos."
   ]
  },
  {
   "cell_type": "code",
   "execution_count": 76,
   "metadata": {},
   "outputs": [],
   "source": [
    "df.drop(columns=['Resolucion', 'Full HD', '4K Ultra HD', 'Quad HD+'], inplace=True) \n",
    "\n"
   ]
  },
  {
   "cell_type": "markdown",
   "metadata": {},
   "source": [
    "## 8ª columna: \"Cpu\"."
   ]
  },
  {
   "cell_type": "code",
   "execution_count": 77,
   "metadata": {},
   "outputs": [],
   "source": [
    "#df['Cpu'].value_counts()"
   ]
  },
  {
   "cell_type": "markdown",
   "metadata": {},
   "source": [
    "Al igual que hicimos con la columna 'ScreenResolution', dividiremos la información de la columna *'Cpu'* en distintas columnas."
   ]
  },
  {
   "cell_type": "code",
   "execution_count": 78,
   "metadata": {},
   "outputs": [],
   "source": [
    "#Primero la marca\n",
    "df['Marca_Cpu'] = 'nisu'  # Por defecto la marca será 'nisu'\n",
    "\n",
    "df.loc[df['Cpu'].str.contains('Intel'), 'Marca_Cpu'] = 'Intel'\n",
    "df.loc[df['Cpu'].str.contains('AMD'), 'Marca_Cpu'] = 'AMD'\n",
    "\n"
   ]
  },
  {
   "cell_type": "code",
   "execution_count": 79,
   "metadata": {},
   "outputs": [],
   "source": [
    "df['Cpu'] = df['Cpu'].str.replace('.0GHz', 'GHz') \n",
    " \n",
    "df['Cpu'] = df['Cpu'].str.replace('Intel Core i5 7200U 2.70GHz', 'Intel Core i5 7200U 2.7GHz') \n",
    "\n",
    "df['Cpu'] = df['Cpu'].str.replace('Intel Celeron Dual Core N3060 1.60GHz', 'Intel Celeron Dual Core N3060 1.6GHz') \n",
    "\n",
    "df['Cpu'] = df['Cpu'].str.replace('Intel Core i7 6500U 2.50GHz', 'Intel Core i7 6500U 2.5GHz') \n",
    "\n",
    "df['Cpu'] = df['Cpu'].str.replace('Intel Core i5 7200U 2.50GHz', 'Intel Core i5 7200U 2.5GHz') \n",
    "\n",
    "\n",
    "df['Cpu'] = df['Cpu'].str.replace('Atom X5-Z8350', 'Atom x5-Z8350') \n",
    "df['Cpu'] = df['Cpu'].str.replace('Atom Z8350', 'Atom x5-Z8350') \n",
    "df['Cpu'] = df['Cpu'].str.replace('A6-Series A6-9220', 'A6-Series 9220') \n",
    "df['Cpu'] = df['Cpu'].str.replace('A9-Series A9-9420', 'A9-Series 9420') \n",
    "df['Cpu'] = df['Cpu'].str.replace('E-Series 9000', 'E-Series E2-9000') \n",
    "\n",
    "df['Cpu'] = df['Cpu'].str.replace('AMD A10-Series A10-9620P 2.5GHz', 'AMD A10-Series 9620P 2.5GHz')"
   ]
  },
  {
   "cell_type": "code",
   "execution_count": 80,
   "metadata": {},
   "outputs": [],
   "source": [
    "#Ahora La velocidad.\n",
    "df['Potencia_Cpu(GHz)'] = 'nisu' \n",
    "df['Potencia_Cpu(GHz)'] = df['Cpu'].str.extract(r'(\\d+\\.*\\d*)\\s*GHz')\n",
    "df['Potencia_Cpu(GHz)'] = df['Potencia_Cpu(GHz)'].astype(float)\n",
    "#df['Potencia_Cpu(GHz)'].value_counts() "
   ]
  },
  {
   "cell_type": "code",
   "execution_count": 81,
   "metadata": {},
   "outputs": [],
   "source": [
    "df['modelocpu_temporal'] = df['Cpu'].apply(lambda x: ' '.join(x.replace('AMD', '').replace('Intel', '').split()[:-1]) if 'GHz' in x else x) #esto es temporal, para facilitar las cosas\n",
    "df[['Modelo_Cpu', 'Submodelo_Cpu']] = df['modelocpu_temporal'].str.split(n=1, expand=True)"
   ]
  },
  {
   "cell_type": "code",
   "execution_count": 82,
   "metadata": {},
   "outputs": [],
   "source": [
    "df[['Modelo_Cpu', 'Submodelo_Cpu']] = df['modelocpu_temporal'].str.split(n=1, expand=True)"
   ]
  },
  {
   "cell_type": "code",
   "execution_count": 83,
   "metadata": {},
   "outputs": [],
   "source": [
    "#df[['Cpu','modelocpu_temporal','Marca_Cpu','Modelo_Cpu', 'Submodelo_Cpu','Potencia_Cpu(GHz)']].sort_values(by='modelocpu_temporal')"
   ]
  },
  {
   "cell_type": "markdown",
   "metadata": {},
   "source": [
    "Tambien las pondremos en minusculas."
   ]
  },
  {
   "cell_type": "code",
   "execution_count": 84,
   "metadata": {},
   "outputs": [],
   "source": [
    "df['Cpu'] = df['Cpu'].str.lower()\n",
    "df['Marca_Cpu'] = df['Marca_Cpu'].str.lower()\n",
    "df['Modelo_Cpu'] = df['Modelo_Cpu'].str.lower()\n",
    "df['Submodelo_Cpu'] = df['Submodelo_Cpu'].str.lower()\n"
   ]
  },
  {
   "cell_type": "code",
   "execution_count": 85,
   "metadata": {},
   "outputs": [],
   "source": [
    "#df[['Cpu','Marca_Cpu','Modelo_Cpu', 'Submodelo_Cpu','Potencia_Cpu(GHz)']].sort_values(by='Marca_Cpu')"
   ]
  },
  {
   "cell_type": "code",
   "execution_count": 86,
   "metadata": {},
   "outputs": [],
   "source": [
    "#df['Submodelo_Cpu'].value_counts() "
   ]
  },
  {
   "cell_type": "markdown",
   "metadata": {},
   "source": [
    "La columna 'modelocpu_temporal' ya ha cumplido su función, nos sirvió de gran ayuda... pero ya no la necesitamos, de hecho nos estorba, y como no tenemos sentimiento de apego con ella, pues al cielo con ella."
   ]
  },
  {
   "cell_type": "code",
   "execution_count": 87,
   "metadata": {},
   "outputs": [],
   "source": [
    "df.drop(columns=['modelocpu_temporal'], inplace=True) \n",
    "\n"
   ]
  },
  {
   "cell_type": "markdown",
   "metadata": {},
   "source": [
    "## 9ª columna: \"Ram\"."
   ]
  },
  {
   "cell_type": "code",
   "execution_count": 88,
   "metadata": {},
   "outputs": [
    {
     "data": {
      "text/plain": [
       "Ram\n",
       "8GB     434\n",
       "4GB     274\n",
       "16GB    125\n",
       "6GB      32\n",
       "2GB      16\n",
       "12GB     15\n",
       "32GB     14\n",
       "24GB      2\n",
       "Name: count, dtype: int64"
      ]
     },
     "execution_count": 88,
     "metadata": {},
     "output_type": "execute_result"
    }
   ],
   "source": [
    "df['Ram'].value_counts()"
   ]
  },
  {
   "cell_type": "markdown",
   "metadata": {},
   "source": [
    "> Para pasarlo a numérico necesitamos eliminar 'GB'."
   ]
  },
  {
   "cell_type": "code",
   "execution_count": 89,
   "metadata": {},
   "outputs": [],
   "source": [
    "df['Ram'] = df['Ram'].str.replace('GB', '')\n",
    "df['Ram'] = pd.to_numeric(df['Ram'])\n",
    "df = df.rename(columns={'Ram': 'Ram (GB)'})"
   ]
  },
  {
   "cell_type": "code",
   "execution_count": 90,
   "metadata": {},
   "outputs": [
    {
     "data": {
      "text/plain": [
       "Ram (GB)\n",
       "8     434\n",
       "4     274\n",
       "16    125\n",
       "6      32\n",
       "2      16\n",
       "12     15\n",
       "32     14\n",
       "24      2\n",
       "Name: count, dtype: int64"
      ]
     },
     "execution_count": 90,
     "metadata": {},
     "output_type": "execute_result"
    }
   ],
   "source": [
    "df['Ram (GB)'].value_counts()"
   ]
  },
  {
   "cell_type": "markdown",
   "metadata": {},
   "source": [
    "> Ya está en numérica "
   ]
  },
  {
   "cell_type": "markdown",
   "metadata": {},
   "source": [
    "## 10ª columna: \"Memory\"."
   ]
  },
  {
   "cell_type": "code",
   "execution_count": 91,
   "metadata": {},
   "outputs": [
    {
     "data": {
      "text/plain": [
       "Memory\n",
       "256GB SSD                        293\n",
       "1TB HDD                          150\n",
       "500GB HDD                        100\n",
       "512GB SSD                         75\n",
       "128GB SSD +  1TB HDD              61\n",
       "128GB SSD                         56\n",
       "256GB SSD +  1TB HDD              52\n",
       "32GB Flash Storage                27\n",
       "64GB Flash Storage                11\n",
       "2TB HDD                           11\n",
       "512GB SSD +  1TB HDD              10\n",
       "1TB SSD                            9\n",
       "1.0TB Hybrid                       7\n",
       "256GB Flash Storage                7\n",
       "32GB SSD                           5\n",
       "180GB SSD                          5\n",
       "256GB SSD +  2TB HDD               4\n",
       "16GB Flash Storage                 4\n",
       "16GB SSD                           3\n",
       "256GB SSD +  500GB HDD             2\n",
       "1TB SSD +  1TB HDD                 2\n",
       "128GB Flash Storage                2\n",
       "512GB SSD +  2TB HDD               2\n",
       "512GB Flash Storage                2\n",
       "1.0TB HDD                          1\n",
       "32GB HDD                           1\n",
       "128GB SSD +  2TB HDD               1\n",
       "512GB SSD +  512GB SSD             1\n",
       "1TB HDD +  1TB HDD                 1\n",
       "256GB SSD +  256GB SSD             1\n",
       "64GB Flash Storage +  1TB HDD      1\n",
       "8GB SSD                            1\n",
       "240GB SSD                          1\n",
       "256GB SSD +  1.0TB Hybrid          1\n",
       "64GB SSD                           1\n",
       "512GB SSD +  1.0TB Hybrid          1\n",
       "Name: count, dtype: int64"
      ]
     },
     "execution_count": 91,
     "metadata": {},
     "output_type": "execute_result"
    }
   ],
   "source": [
    "df['Memory'].value_counts()"
   ]
  },
  {
   "cell_type": "markdown",
   "metadata": {},
   "source": [
    "Creamos una columna con los gigas del disco duro principal."
   ]
  },
  {
   "cell_type": "code",
   "execution_count": 92,
   "metadata": {},
   "outputs": [],
   "source": [
    "df['Memoria principal'] = df['Memory'].str.split().str[0] #Con esto pongo cuantos gb o tb tiene el disco duro princpial. \n",
    "df['Memoria principal'] = df['Memoria principal'].str.replace('GB', '') #Eliminamos 'GB' de las entradas donde aparece. \n",
    "df['Memoria_Principal'] = df['Memoria principal'] #Creamos una nueva columna para poder multiplicar por mil los teras.\n",
    "df['Memoria_Principal'] = df['Memoria_Principal'].str.replace('TB', '') #Eliminamos 'TB' de las entradas donde aparece. \n",
    "df['Memoria_Principal'] = pd.to_numeric(df['Memoria_Principal'], errors='coerce') #Convertimos a numerico. \n",
    "df['Memoria_Principal'] = df['Memoria principal'].apply(lambda x: float(x.replace('TB', '').strip()) * 1000 if 'TB' in x else x) #Si son teras multiplicamos por mil \n",
    "df.drop(columns=['Memoria principal'], inplace=True) #Eliminamos la columna que ya no nos sirve.\n",
    "df['Memoria_Principal'] = df['Memoria_Principal'].astype(float) #Convertimos a numerico.\n",
    "df = df.rename(columns={'Memoria_Principal': 'Memoria_Principal(GB)'}) #cambiamos el nombre\n",
    "\n",
    "\n"
   ]
  },
  {
   "cell_type": "markdown",
   "metadata": {},
   "source": [
    "Creamos una columna con el tipo del disco duro principal"
   ]
  },
  {
   "cell_type": "code",
   "execution_count": 93,
   "metadata": {},
   "outputs": [],
   "source": [
    "df['Tipo_mem_principal'] = df['Memory'].apply(lambda x: x.split(\" \")[1].strip() if \"+\" in x else x.split(\" \", 1)[1].strip()) #Creamos una columna cone l primer tipo de memoria que sale.\n",
    "df['Tipo_mem_principal'] = df['Tipo_mem_principal'].replace(\"Flash\", \"Flash Storage\") #Arreglamos un pequeño fallito\n"
   ]
  },
  {
   "cell_type": "code",
   "execution_count": 94,
   "metadata": {},
   "outputs": [],
   "source": [
    "#df['Memoria_Principal(GB)'].value_counts()"
   ]
  },
  {
   "cell_type": "code",
   "execution_count": 95,
   "metadata": {},
   "outputs": [],
   "source": [
    "#df['Tipo_mem_principal'].value_counts()"
   ]
  },
  {
   "cell_type": "markdown",
   "metadata": {},
   "source": [
    "Creamos una columna con los gigas que tiene el segundo disco, 0 si no tiene"
   ]
  },
  {
   "cell_type": "code",
   "execution_count": 96,
   "metadata": {},
   "outputs": [],
   "source": [
    "df['Segundo disco'] = df['Memory'].apply(lambda x: x[x.find('+')+1:].split()[0] if '+' in x else 0) #Si no aparece el + se pone \"0\" en la columna nueva, si aparece se pone su memoria\n",
    "mask = df['Segundo disco'].str.contains('GB', na=False)#Eliminamos los caracteres \"GB\"\n",
    "df.loc[mask, 'Segundo disco'] = df.loc[mask, 'Segundo disco'].str.replace(r'(\\d+)GB', r'\\1', regex=True) #Eliminamos los caracteres \"GB\" \n",
    "df['Segundo_Disco'] = df['Segundo disco'] #CReamos una columna igual. \n",
    "mask = df['Segundo_Disco'].str.contains('TB', na=False)#Eliminamos los caracteres \"TB\" \n",
    "df.loc[mask, 'Segundo_Disco'] = df.loc[mask, 'Segundo_Disco'].str.replace(r'(\\d+)TB', r'\\1', regex=True) #Eliminamos los caracteres \"TB\" \n",
    "df['Segundo_Disco'] = pd.to_numeric(df['Segundo_Disco'], errors='coerce') #Convertimos a numerico. \n",
    "mask = df['Segundo disco'].str.contains('TB', na=False) #Buscamos aquellos que vienen en teras\n",
    "df.loc[mask, 'Segundo_Disco'] *= 1000 #Multipicamos por 1000 \n",
    "df = df.rename(columns={'Segundo_Disco': 'Memoria_Secundario(GB)'}) \n",
    "df.drop(columns=['Segundo disco'], inplace=True) \n",
    "\n"
   ]
  },
  {
   "cell_type": "code",
   "execution_count": 97,
   "metadata": {},
   "outputs": [],
   "source": [
    "#df['Memoria_Secundario(GB)'].value_counts()"
   ]
  },
  {
   "cell_type": "markdown",
   "metadata": {},
   "source": [
    "Creamos una columna con el tipo del disco duro secundario."
   ]
  },
  {
   "cell_type": "code",
   "execution_count": 98,
   "metadata": {},
   "outputs": [],
   "source": [
    "df['Tipo_mem_secundario'] = 'Sin disco secundario'\n",
    "\n",
    "mask = df['Memory'].str.contains(r'\\+', na=False)\n",
    "\n",
    "df.loc[mask, 'Tipo_mem_secundario'] = df.loc[mask, 'Memory'].str.split().str[-1]\n",
    "\n",
    "\n"
   ]
  },
  {
   "cell_type": "code",
   "execution_count": 99,
   "metadata": {},
   "outputs": [],
   "source": [
    "#df['Tipo_mem_secundario'].value_counts()"
   ]
  },
  {
   "cell_type": "markdown",
   "metadata": {},
   "source": [
    "Dejamos el codigo para liminar la columna \"Memory\" preparada"
   ]
  },
  {
   "cell_type": "code",
   "execution_count": 100,
   "metadata": {},
   "outputs": [],
   "source": [
    "#df.drop(columns=['Memory'], inplace=True) "
   ]
  },
  {
   "cell_type": "markdown",
   "metadata": {},
   "source": [
    "## 11ª columna: \"Gpu\". \n",
    ">Al igual que hicimos con la columna 'Cpu' aquí también la dividiremos en otras columnas."
   ]
  },
  {
   "cell_type": "markdown",
   "metadata": {},
   "source": [
    "Primero la marca (es lo más fácil)."
   ]
  },
  {
   "cell_type": "code",
   "execution_count": 101,
   "metadata": {},
   "outputs": [],
   "source": [
    "df['Marca_Gpu'] = df['Gpu'].apply(lambda x: 'Nvidia' if 'nvidia' in x.lower() else ('Intel' if 'intel' in x.lower() else ('AMD' if 'amd' in x.lower() else 'Otro')))"
   ]
  },
  {
   "cell_type": "code",
   "execution_count": 102,
   "metadata": {},
   "outputs": [],
   "source": [
    "#df[['Gpu','Marca_Gpu']].sort_values(by='Gpu')"
   ]
  },
  {
   "cell_type": "code",
   "execution_count": 103,
   "metadata": {},
   "outputs": [],
   "source": [
    "#Vemos que aparece 'Nvidia GeForce GTX 960<U+039C>' eso de '<U+039C>' no significa nada, asi que lo quitamos. \n",
    "df['Gpu'] = df['Gpu'].str.replace('Nvidia GeForce GTX 960<U+039C>', 'Nvidia GeForce GTX 960') "
   ]
  },
  {
   "cell_type": "code",
   "execution_count": 104,
   "metadata": {},
   "outputs": [],
   "source": [
    "#df['Marca_Gpu'].value_counts()"
   ]
  },
  {
   "cell_type": "markdown",
   "metadata": {},
   "source": [
    "Ahora hagamos una columna temporal, pa' que sea más fácil sacar información... Sin la marca."
   ]
  },
  {
   "cell_type": "code",
   "execution_count": 105,
   "metadata": {},
   "outputs": [],
   "source": [
    "df['Temporal_Gpu'] = df['Gpu'].apply(lambda x: x.lower().replace('nvidia', '').replace('intel', '').replace('amd', ''))\n"
   ]
  },
  {
   "cell_type": "code",
   "execution_count": 106,
   "metadata": {},
   "outputs": [],
   "source": [
    "#df[['Gpu','Marca_Gpu', 'Temporal_Gpu']].sort_values(by='Temporal_Gpu')"
   ]
  },
  {
   "cell_type": "markdown",
   "metadata": {},
   "source": [
    "Pasándole la lista temporal a nuestro amigo Chaty, veremos si hay algunas que son la misma pero escritas de forma distinta.\n",
    "\n",
    "\n",
    "\n",
    "\n",
    "\n"
   ]
  },
  {
   "cell_type": "code",
   "execution_count": 107,
   "metadata": {},
   "outputs": [],
   "source": [
    "df['Gpu'] = df['Gpu'].str.replace('hd graphics 620', 'Hd graphics 620') \n",
    "df['Gpu'] = df['Gpu'].str.replace('geforce gtx 940mx', 'geforce gtx 940MX') "
   ]
  },
  {
   "cell_type": "code",
   "execution_count": 108,
   "metadata": {},
   "outputs": [],
   "source": [
    "#df['Temporal_Gpu'].value_counts() \n",
    "#Según chatgtp parece estar bien."
   ]
  },
  {
   "cell_type": "markdown",
   "metadata": {},
   "source": [
    "Ahora si, Modelo y Submodelo."
   ]
  },
  {
   "cell_type": "code",
   "execution_count": 109,
   "metadata": {},
   "outputs": [],
   "source": [
    "# Crear las columnas Modelo_Gpu y Submodelo_Gpu\n",
    "df['Modelo_Gpu'] = ''\n",
    "df['Submodelo_Gpu'] = ''\n",
    "\n",
    "# Iterar sobre las filas del DataFrame\n",
    "for index, row in df.iterrows():\n",
    "    # Dividir la cadena en palabras\n",
    "    palabras = row['Temporal_Gpu'].split()\n",
    "    \n",
    "    # Si hay solo una palabra\n",
    "    if len(palabras) == 1:\n",
    "        df.at[index, 'Modelo_Gpu'] = palabras[0]\n",
    "        df.at[index, 'Submodelo_Gpu'] = 'no_especificado'\n",
    "    else:\n",
    "        # Tomar la primera palabra como el modelo\n",
    "        df.at[index, 'Modelo_Gpu'] = palabras[0]\n",
    "        \n",
    "        # Si la primera palabra es \"hd graphics\" y hay más palabras después de \"hd graphics\"\n",
    "        if palabras[0] == 'hd' and palabras[1] == 'graphics':\n",
    "            df.at[index, 'Modelo_Gpu'] = 'hd graphics'\n",
    "            if len(palabras) > 2:\n",
    "                df.at[index, 'Submodelo_Gpu'] = palabras[2]\n",
    "            else:\n",
    "                df.at[index, 'Submodelo_Gpu'] = 'no_especificado'\n",
    "        elif palabras[0] == 'uhd' and palabras[1] == 'graphics':\n",
    "            df.at[index, 'Modelo_Gpu'] = 'uhd graphics'\n",
    "            if len(palabras) > 2:\n",
    "                df.at[index, 'Submodelo_Gpu'] = palabras[2]\n",
    "            else:\n",
    "                df.at[index, 'Submodelo_Gpu'] = 'no_especificado'\n",
    "        # Si la segunda palabra es un número, tomarla como el submodelo\n",
    "        elif palabras[1].isdigit():\n",
    "            df.at[index, 'Submodelo_Gpu'] = palabras[1]\n",
    "        else:\n",
    "            # Tomar todas las palabras restantes como el submodelo\n",
    "            df.at[index, 'Submodelo_Gpu'] = ' '.join(palabras[1:])\n",
    "\n",
    "    # Manejar casos especiales\n",
    "    if row['Temporal_Gpu'] == 'r17m-m1-70':\n",
    "        df.at[index, 'Modelo_Gpu'] = 'radeon'\n",
    "        df.at[index, 'Submodelo_Gpu'] = 'r7 M530'\n",
    "    elif 'sli' in row['Temporal_Gpu']:\n",
    "        df.at[index, 'Submodelo_Gpu'] = row['Temporal_Gpu']\n",
    "\n",
    "\n",
    "\n",
    "\n",
    "\n"
   ]
  },
  {
   "cell_type": "code",
   "execution_count": 110,
   "metadata": {},
   "outputs": [],
   "source": [
    "df.at[589, 'Modelo_Gpu'] = 'radeon' #no lo cambiaba bien el codigo anterior.\n",
    "df.at[589, 'Submodelo_Gpu'] = 'r7 M530'\n"
   ]
  },
  {
   "cell_type": "code",
   "execution_count": 111,
   "metadata": {},
   "outputs": [],
   "source": [
    "df.at[738, 'Modelo_Gpu'] = 'geforce' #Lo he buscado en internet\n",
    "df.at[738, 'Submodelo_Gpu'] = 'gtx 980 sli' \n",
    "\n",
    "df.at[740, 'Modelo_Gpu'] = 'radeon' \n",
    "df.at[740, 'Submodelo_Gpu'] = 'r4'  \n",
    "\n",
    "df.at[887, 'Modelo_Gpu'] = 'hd graphics' \n",
    "df.at[887, 'Submodelo_Gpu'] = '620'  "
   ]
  },
  {
   "cell_type": "code",
   "execution_count": 112,
   "metadata": {},
   "outputs": [],
   "source": [
    "#gtx 1050ti \n",
    "df['Submodelo_Gpu'] = df['Submodelo_Gpu'].str.replace('gtx 1050ti', 'gtx 1050 ti') "
   ]
  },
  {
   "cell_type": "code",
   "execution_count": 113,
   "metadata": {},
   "outputs": [],
   "source": [
    "#df[['Gpu','Marca_Gpu', 'Modelo_Gpu','Submodelo_Gpu']].sort_values(by='Modelo_Gpu')"
   ]
  },
  {
   "cell_type": "code",
   "execution_count": 114,
   "metadata": {},
   "outputs": [],
   "source": [
    "#df['Submodelo_Gpu'].value_counts()"
   ]
  },
  {
   "cell_type": "markdown",
   "metadata": {},
   "source": [
    "Ahora eliminamos la temporal."
   ]
  },
  {
   "cell_type": "code",
   "execution_count": 115,
   "metadata": {},
   "outputs": [],
   "source": [
    "df.drop(columns=['Temporal_Gpu'], inplace=True)"
   ]
  },
  {
   "cell_type": "markdown",
   "metadata": {},
   "source": [
    "## 12ª columna: \"'OpSys'\"."
   ]
  },
  {
   "cell_type": "code",
   "execution_count": 116,
   "metadata": {},
   "outputs": [],
   "source": [
    "#df['OpSys'].value_counts()"
   ]
  },
  {
   "cell_type": "markdown",
   "metadata": {},
   "source": [
    "## 13ª columna: \"Weight\"."
   ]
  },
  {
   "cell_type": "code",
   "execution_count": 117,
   "metadata": {},
   "outputs": [],
   "source": [
    "#df['Weight'].value_counts()"
   ]
  },
  {
   "cell_type": "markdown",
   "metadata": {},
   "source": [
    "> Para pasarlo a numérico necesitamos eliminar 'Kg'."
   ]
  },
  {
   "cell_type": "code",
   "execution_count": 118,
   "metadata": {},
   "outputs": [],
   "source": [
    "df['Weight'] = df['Weight'].str.replace('kg', '')\n",
    "df['Weight'] = pd.to_numeric(df['Weight'])"
   ]
  },
  {
   "cell_type": "markdown",
   "metadata": {},
   "source": [
    "> Ya está en numérica "
   ]
  },
  {
   "cell_type": "code",
   "execution_count": 119,
   "metadata": {},
   "outputs": [],
   "source": [
    "df = df.rename(columns={'Weight': 'Weight (Kg)'})"
   ]
  },
  {
   "cell_type": "markdown",
   "metadata": {},
   "source": [
    "## 14ª columna: \"Price_euros\"."
   ]
  },
  {
   "cell_type": "code",
   "execution_count": 120,
   "metadata": {},
   "outputs": [],
   "source": [
    "#df['Price_euros'].value_counts()"
   ]
  },
  {
   "cell_type": "markdown",
   "metadata": {},
   "source": [
    "### Eliminamos las entradas unicas de Modelo."
   ]
  },
  {
   "cell_type": "code",
   "execution_count": 128,
   "metadata": {},
   "outputs": [],
   "source": [
    "#frecuencias = df['Modelo'].value_counts()\n",
    "\n",
    "#df = df[df['Modelo'].isin(frecuencias[frecuencias > 1].index)]"
   ]
  },
  {
   "cell_type": "code",
   "execution_count": 130,
   "metadata": {},
   "outputs": [
    {
     "data": {
      "text/plain": [
       "Modelo\n",
       "inspiron       99\n",
       "thinkpad       72\n",
       "ideapad        69\n",
       "probook        51\n",
       "aspire         46\n",
       "elitebook      39\n",
       "latitude       35\n",
       "xps            28\n",
       "rog            28\n",
       "vostro         27\n",
       "15             25\n",
       "yoga           25\n",
       "vivobook       22\n",
       "zenbook        22\n",
       "250            21\n",
       "macbook        17\n",
       "chromebook     16\n",
       "tecra          14\n",
       "portege        13\n",
       "legion         13\n",
       "alienware      12\n",
       "zbook          10\n",
       "v110           10\n",
       "satellite      10\n",
       "pavilion        9\n",
       "omen            7\n",
       "swift           7\n",
       "v310            7\n",
       "17              7\n",
       "leopard         6\n",
       "spectre         6\n",
       "blade           6\n",
       "precision       6\n",
       "smartbook       6\n",
       "envy            5\n",
       "notebook        5\n",
       "pro p2540ua     4\n",
       "x541na          4\n",
       "gl62m           4\n",
       "stream          4\n",
       "x553sa          4\n",
       "travelmate      4\n",
       "spin            4\n",
       "x541na          3\n",
       "mi              3\n",
       "surface         3\n",
       "predator        3\n",
       "v330            3\n",
       "b51             3\n",
       "lifebook        3\n",
       "apache          3\n",
       "gp62m           2\n",
       "e402wa          2\n",
       "gt62vr          2\n",
       "phantom         2\n",
       "gs73vr          2\n",
       "pixelbook       2\n",
       "fx553vd         2\n",
       "fx753ve         2\n",
       "stealth         2\n",
       "fx753vd         2\n",
       "ge63vr          2\n",
       "lapbook         2\n",
       "Name: count, dtype: int64"
      ]
     },
     "execution_count": 130,
     "metadata": {},
     "output_type": "execute_result"
    }
   ],
   "source": [
    "df['Modelo'].value_counts()"
   ]
  },
  {
   "cell_type": "code",
   "execution_count": 122,
   "metadata": {},
   "outputs": [
    {
     "name": "stdout",
     "output_type": "stream",
     "text": [
      "<class 'pandas.core.frame.DataFrame'>\n",
      "RangeIndex: 912 entries, 0 to 911\n",
      "Data columns (total 32 columns):\n",
      " #   Column                  Non-Null Count  Dtype  \n",
      "---  ------                  --------------  -----  \n",
      " 0   id                      912 non-null    int64  \n",
      " 1   Company                 912 non-null    object \n",
      " 2   Product                 912 non-null    object \n",
      " 3   TypeName                912 non-null    object \n",
      " 4   Inches                  912 non-null    float64\n",
      " 5   ScreenResolution        912 non-null    object \n",
      " 6   Cpu                     912 non-null    object \n",
      " 7   Ram (GB)                912 non-null    int64  \n",
      " 8   Memory                  912 non-null    object \n",
      " 9   Gpu                     912 non-null    object \n",
      " 10  OpSys                   912 non-null    object \n",
      " 11  Weight (Kg)             912 non-null    float64\n",
      " 12  Price_euros             912 non-null    float64\n",
      " 13  Modelo                  912 non-null    object \n",
      " 14  Submodelo               912 non-null    object \n",
      " 15  Resolucion_X            912 non-null    int64  \n",
      " 16  Resolucion_Y            912 non-null    int64  \n",
      " 17  Tactil                  912 non-null    bool   \n",
      " 18  PANEL IPS               912 non-null    bool   \n",
      " 19  Retina Display          912 non-null    bool   \n",
      " 20  Definicion              912 non-null    object \n",
      " 21  Marca_Cpu               912 non-null    object \n",
      " 22  Potencia_Cpu(GHz)       912 non-null    float64\n",
      " 23  Modelo_Cpu              912 non-null    object \n",
      " 24  Submodelo_Cpu           912 non-null    object \n",
      " 25  Memoria_Principal(GB)   912 non-null    float64\n",
      " 26  Tipo_mem_principal      912 non-null    object \n",
      " 27  Memoria_Secundario(GB)  912 non-null    float64\n",
      " 28  Tipo_mem_secundario     912 non-null    object \n",
      " 29  Marca_Gpu               912 non-null    object \n",
      " 30  Modelo_Gpu              912 non-null    object \n",
      " 31  Submodelo_Gpu           912 non-null    object \n",
      "dtypes: bool(3), float64(6), int64(4), object(19)\n",
      "memory usage: 209.4+ KB\n"
     ]
    }
   ],
   "source": [
    "df.info()"
   ]
  },
  {
   "cell_type": "markdown",
   "metadata": {},
   "source": [
    "### Ahora guardaremos el dataframe ya limpio y preparado (aunque no del todo) en un archivo CSV, el cual usaremos en otro Jupyter para el modelado.\n",
    "\n",
    "\n",
    "\n",
    "\n",
    "\n"
   ]
  },
  {
   "cell_type": "code",
   "execution_count": 131,
   "metadata": {},
   "outputs": [],
   "source": [
    "df.to_csv('data/limpios/df_train_sinmodelosunicos.csv', index=False)"
   ]
  }
 ],
 "metadata": {
  "kernelspec": {
   "display_name": "Python 3",
   "language": "python",
   "name": "python3"
  },
  "language_info": {
   "codemirror_mode": {
    "name": "ipython",
    "version": 3
   },
   "file_extension": ".py",
   "mimetype": "text/x-python",
   "name": "python",
   "nbconvert_exporter": "python",
   "pygments_lexer": "ipython3",
   "version": "3.12.3"
  }
 },
 "nbformat": 4,
 "nbformat_minor": 2
}
