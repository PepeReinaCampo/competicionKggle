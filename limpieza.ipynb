{
 "cells": [
  {
   "cell_type": "markdown",
   "metadata": {},
   "source": [
    "## LIEMPIEZA PARA EL PIPELINE."
   ]
  },
  {
   "cell_type": "markdown",
   "metadata": {},
   "source": [
    "## LIBRERÍAS USADAS."
   ]
  },
  {
   "cell_type": "code",
   "execution_count": 2,
   "metadata": {},
   "outputs": [],
   "source": [
    "import pandas as pd \n",
    "import numpy as np \n",
    "import unicodedata \n",
    "pd.options.display.max_columns = None \n",
    "pd.options.display.max_rows = None\n",
    "import random"
   ]
  },
  {
   "cell_type": "markdown",
   "metadata": {},
   "source": [
    "## CARGA DE DATOS."
   ]
  },
  {
   "cell_type": "code",
   "execution_count": 3,
   "metadata": {},
   "outputs": [],
   "source": [
    "df_train = pd.read_csv(\"./data/df_train_sinmodelosunicos.csv\") \n",
    "df_test = pd.read_csv(\"./data/df_test_prueba_larga.csv\") "
   ]
  },
  {
   "cell_type": "code",
   "execution_count": 4,
   "metadata": {},
   "outputs": [],
   "source": [
    "columns_to_drop = ['ScreenResolution', 'Cpu', 'Memory', 'Gpu', 'Product']\n",
    "\n",
    "# Eliminando las columnas de df_train y df_test inplace\n",
    "df_train.drop(columns=columns_to_drop, inplace=True)\n",
    "df_test.drop(columns=columns_to_drop, inplace=True)"
   ]
  },
  {
   "cell_type": "code",
   "execution_count": null,
   "metadata": {},
   "outputs": [],
   "source": []
  },
  {
   "cell_type": "code",
   "execution_count": 5,
   "metadata": {},
   "outputs": [
    {
     "data": {
      "text/html": [
       "<div>\n",
       "<style scoped>\n",
       "    .dataframe tbody tr th:only-of-type {\n",
       "        vertical-align: middle;\n",
       "    }\n",
       "\n",
       "    .dataframe tbody tr th {\n",
       "        vertical-align: top;\n",
       "    }\n",
       "\n",
       "    .dataframe thead th {\n",
       "        text-align: right;\n",
       "    }\n",
       "</style>\n",
       "<table border=\"1\" class=\"dataframe\">\n",
       "  <thead>\n",
       "    <tr style=\"text-align: right;\">\n",
       "      <th></th>\n",
       "      <th>id</th>\n",
       "      <th>Company</th>\n",
       "      <th>TypeName</th>\n",
       "      <th>Inches</th>\n",
       "      <th>Ram (GB)</th>\n",
       "      <th>OpSys</th>\n",
       "      <th>Weight (Kg)</th>\n",
       "      <th>Price_euros</th>\n",
       "      <th>Modelo</th>\n",
       "      <th>Submodelo</th>\n",
       "      <th>Resolucion_X</th>\n",
       "      <th>Resolucion_Y</th>\n",
       "      <th>Tactil</th>\n",
       "      <th>PANEL IPS</th>\n",
       "      <th>Retina Display</th>\n",
       "      <th>Definicion</th>\n",
       "      <th>Marca_Cpu</th>\n",
       "      <th>Potencia_Cpu(GHz)</th>\n",
       "      <th>Modelo_Cpu</th>\n",
       "      <th>Submodelo_Cpu</th>\n",
       "      <th>Memoria_Principal(GB)</th>\n",
       "      <th>Tipo_mem_principal</th>\n",
       "      <th>Memoria_Secundario(GB)</th>\n",
       "      <th>Tipo_mem_secundario</th>\n",
       "      <th>Marca_Gpu</th>\n",
       "      <th>Modelo_Gpu</th>\n",
       "      <th>Submodelo_Gpu</th>\n",
       "    </tr>\n",
       "  </thead>\n",
       "  <tbody>\n",
       "    <tr>\n",
       "      <th>876</th>\n",
       "      <td>1179</td>\n",
       "      <td>Dell</td>\n",
       "      <td>Notebook</td>\n",
       "      <td>15.6</td>\n",
       "      <td>8</td>\n",
       "      <td>Linux</td>\n",
       "      <td>2.3</td>\n",
       "      <td>805.99</td>\n",
       "      <td>inspiron</td>\n",
       "      <td>3567</td>\n",
       "      <td>1366</td>\n",
       "      <td>768</td>\n",
       "      <td>False</td>\n",
       "      <td>False</td>\n",
       "      <td>False</td>\n",
       "      <td>No especificado</td>\n",
       "      <td>intel</td>\n",
       "      <td>2.7</td>\n",
       "      <td>core</td>\n",
       "      <td>i7 7500u</td>\n",
       "      <td>1000.0</td>\n",
       "      <td>HDD</td>\n",
       "      <td>0.0</td>\n",
       "      <td>Sin disco secundario</td>\n",
       "      <td>AMD</td>\n",
       "      <td>radeon</td>\n",
       "      <td>r5 m430</td>\n",
       "    </tr>\n",
       "  </tbody>\n",
       "</table>\n",
       "</div>"
      ],
      "text/plain": [
       "       id Company  TypeName  Inches  Ram (GB)  OpSys  Weight (Kg)  \\\n",
       "876  1179    Dell  Notebook    15.6         8  Linux          2.3   \n",
       "\n",
       "     Price_euros    Modelo Submodelo  Resolucion_X  Resolucion_Y  Tactil  \\\n",
       "876       805.99  inspiron      3567          1366           768   False   \n",
       "\n",
       "     PANEL IPS  Retina Display       Definicion Marca_Cpu  Potencia_Cpu(GHz)  \\\n",
       "876      False           False  No especificado     intel                2.7   \n",
       "\n",
       "    Modelo_Cpu Submodelo_Cpu  Memoria_Principal(GB) Tipo_mem_principal  \\\n",
       "876       core      i7 7500u                 1000.0                HDD   \n",
       "\n",
       "     Memoria_Secundario(GB)   Tipo_mem_secundario Marca_Gpu Modelo_Gpu  \\\n",
       "876                     0.0  Sin disco secundario       AMD     radeon   \n",
       "\n",
       "    Submodelo_Gpu  \n",
       "876       r5 m430  "
      ]
     },
     "execution_count": 5,
     "metadata": {},
     "output_type": "execute_result"
    }
   ],
   "source": [
    "df_train.tail(1)"
   ]
  },
  {
   "cell_type": "code",
   "execution_count": 6,
   "metadata": {},
   "outputs": [
    {
     "data": {
      "text/html": [
       "<div>\n",
       "<style scoped>\n",
       "    .dataframe tbody tr th:only-of-type {\n",
       "        vertical-align: middle;\n",
       "    }\n",
       "\n",
       "    .dataframe tbody tr th {\n",
       "        vertical-align: top;\n",
       "    }\n",
       "\n",
       "    .dataframe thead th {\n",
       "        text-align: right;\n",
       "    }\n",
       "</style>\n",
       "<table border=\"1\" class=\"dataframe\">\n",
       "  <thead>\n",
       "    <tr style=\"text-align: right;\">\n",
       "      <th></th>\n",
       "      <th>id</th>\n",
       "      <th>Company</th>\n",
       "      <th>TypeName</th>\n",
       "      <th>Inches</th>\n",
       "      <th>Ram (GB)</th>\n",
       "      <th>OpSys</th>\n",
       "      <th>Weight (Kg)</th>\n",
       "      <th>Modelo</th>\n",
       "      <th>Submodelo</th>\n",
       "      <th>Resolucion_X</th>\n",
       "      <th>Resolucion_Y</th>\n",
       "      <th>Tactil</th>\n",
       "      <th>PANEL IPS</th>\n",
       "      <th>Retina Display</th>\n",
       "      <th>Definicion</th>\n",
       "      <th>Marca_Cpu</th>\n",
       "      <th>Potencia_Cpu(GHz)</th>\n",
       "      <th>Modelo_Cpu</th>\n",
       "      <th>Submodelo_Cpu</th>\n",
       "      <th>Memoria_Principal(GB)</th>\n",
       "      <th>Tipo_mem_principal</th>\n",
       "      <th>Memoria_Secundario(GB)</th>\n",
       "      <th>Tipo_mem_secundario</th>\n",
       "      <th>Marca_Gpu</th>\n",
       "      <th>Modelo_Gpu</th>\n",
       "      <th>Submodelo_Gpu</th>\n",
       "    </tr>\n",
       "  </thead>\n",
       "  <tbody>\n",
       "    <tr>\n",
       "      <th>0</th>\n",
       "      <td>181</td>\n",
       "      <td>HP</td>\n",
       "      <td>Ultrabook</td>\n",
       "      <td>13.3</td>\n",
       "      <td>16</td>\n",
       "      <td>Windows 10</td>\n",
       "      <td>1.3</td>\n",
       "      <td>spectre</td>\n",
       "      <td>x360</td>\n",
       "      <td>3840</td>\n",
       "      <td>2160</td>\n",
       "      <td>False</td>\n",
       "      <td>True</td>\n",
       "      <td>False</td>\n",
       "      <td>4K Ultra HD</td>\n",
       "      <td>Intel</td>\n",
       "      <td>2.7</td>\n",
       "      <td>Core</td>\n",
       "      <td>i7 7500U</td>\n",
       "      <td>512.0</td>\n",
       "      <td>SSD</td>\n",
       "      <td>0</td>\n",
       "      <td>Sin disco secundario</td>\n",
       "      <td>Intel</td>\n",
       "      <td>hd graphics</td>\n",
       "      <td>620</td>\n",
       "    </tr>\n",
       "  </tbody>\n",
       "</table>\n",
       "</div>"
      ],
      "text/plain": [
       "    id Company   TypeName  Inches  Ram (GB)       OpSys  Weight (Kg)   Modelo  \\\n",
       "0  181      HP  Ultrabook    13.3        16  Windows 10          1.3  spectre   \n",
       "\n",
       "  Submodelo  Resolucion_X  Resolucion_Y  Tactil  PANEL IPS  Retina Display  \\\n",
       "0      x360          3840          2160   False       True           False   \n",
       "\n",
       "    Definicion Marca_Cpu  Potencia_Cpu(GHz) Modelo_Cpu Submodelo_Cpu  \\\n",
       "0  4K Ultra HD     Intel                2.7       Core      i7 7500U   \n",
       "\n",
       "   Memoria_Principal(GB) Tipo_mem_principal  Memoria_Secundario(GB)  \\\n",
       "0                  512.0                SSD                       0   \n",
       "\n",
       "    Tipo_mem_secundario Marca_Gpu   Modelo_Gpu Submodelo_Gpu  \n",
       "0  Sin disco secundario     Intel  hd graphics           620  "
      ]
     },
     "execution_count": 6,
     "metadata": {},
     "output_type": "execute_result"
    }
   ],
   "source": [
    "df_test.head(1)"
   ]
  },
  {
   "cell_type": "markdown",
   "metadata": {},
   "source": [
    "### AÑADO UNA COLUMNA NUMERICA, PARA ASEGURAME QUE NO PIERDO EL ORDEN."
   ]
  },
  {
   "cell_type": "code",
   "execution_count": 7,
   "metadata": {},
   "outputs": [],
   "source": [
    "df_train['numeritos_temporales'] = range(len(df_train))\n",
    "df_test['numeritos_temporales'] = range(len(df_test))"
   ]
  },
  {
   "cell_type": "markdown",
   "metadata": {},
   "source": [
    "## VISUALIZACIÓN DE LOS DATASETS."
   ]
  },
  {
   "cell_type": "markdown",
   "metadata": {},
   "source": [
    "## Eliminación de la columna 'laptop_ID'."
   ]
  },
  {
   "cell_type": "code",
   "execution_count": 9,
   "metadata": {},
   "outputs": [],
   "source": [
    "#df_train.drop(columns=['laptop_ID'], inplace=True)\n",
    "#df_test.drop(columns=['laptop_ID'], inplace=True)"
   ]
  },
  {
   "cell_type": "markdown",
   "metadata": {},
   "source": [
    "## Eliminamos los paréntesis de la columna 'Product'."
   ]
  },
  {
   "cell_type": "code",
   "execution_count": 10,
   "metadata": {},
   "outputs": [],
   "source": [
    "#df_train['Product'] = df_train['Product'].str.split('(').str.get(0)\n",
    "#df_test['Product'] = df_test['Product'].str.split('(').str.get(0)"
   ]
  },
  {
   "cell_type": "markdown",
   "metadata": {},
   "source": [
    "## Quitamos 'GB' de la columna 'Ram' y la pasamos a numérica."
   ]
  },
  {
   "cell_type": "code",
   "execution_count": 11,
   "metadata": {},
   "outputs": [
    {
     "data": {
      "text/plain": [
       "\"\\ndf_train['Ram'] = df_train['Ram'].str.replace('GB', '')\\ndf_train['Ram'] = pd.to_numeric(df_train['Ram']) \\n\\ndf_test['Ram'] = df_test['Ram'].str.replace('GB', '')\\ndf_test['Ram'] = pd.to_numeric(df_test['Ram'])\\n\""
      ]
     },
     "execution_count": 11,
     "metadata": {},
     "output_type": "execute_result"
    }
   ],
   "source": [
    "\"\"\"\n",
    "df_train['Ram'] = df_train['Ram'].str.replace('GB', '')\n",
    "df_train['Ram'] = pd.to_numeric(df_train['Ram']) \n",
    "\n",
    "df_test['Ram'] = df_test['Ram'].str.replace('GB', '')\n",
    "df_test['Ram'] = pd.to_numeric(df_test['Ram'])\n",
    "\"\"\""
   ]
  },
  {
   "cell_type": "markdown",
   "metadata": {},
   "source": [
    "## Quitamos 'kg' de la columna 'Weight' y la pasamos a numérica."
   ]
  },
  {
   "cell_type": "code",
   "execution_count": 12,
   "metadata": {},
   "outputs": [
    {
     "data": {
      "text/plain": [
       "\"\\ndf_train['Weight'] = df_train['Weight'].str.replace('kg', '')\\ndf_train['Weight'] = pd.to_numeric(df_train['Weight'])\\n\\ndf_test['Weight'] = df_test['Weight'].str.replace('kg', '')\\ndf_test['Weight'] = pd.to_numeric(df_test['Weight'])\\n\""
      ]
     },
     "execution_count": 12,
     "metadata": {},
     "output_type": "execute_result"
    }
   ],
   "source": [
    "\"\"\"\n",
    "df_train['Weight'] = df_train['Weight'].str.replace('kg', '')\n",
    "df_train['Weight'] = pd.to_numeric(df_train['Weight'])\n",
    "\n",
    "df_test['Weight'] = df_test['Weight'].str.replace('kg', '')\n",
    "df_test['Weight'] = pd.to_numeric(df_test['Weight'])\n",
    "\"\"\""
   ]
  },
  {
   "cell_type": "markdown",
   "metadata": {},
   "source": [
    "## Convertimos a minúsculas todas las letras de todas las entradas."
   ]
  },
  {
   "cell_type": "code",
   "execution_count": 8,
   "metadata": {},
   "outputs": [],
   "source": [
    "df_train = df_train.apply(lambda col: col.map(lambda x: x.lower() if isinstance(x, str) else x))\n",
    "df_test = df_test.apply(lambda col: col.map(lambda x: x.lower() if isinstance(x, str) else x))"
   ]
  },
  {
   "cell_type": "markdown",
   "metadata": {},
   "source": [
    "## Eliminamos tildes."
   ]
  },
  {
   "cell_type": "code",
   "execution_count": 9,
   "metadata": {},
   "outputs": [],
   "source": [
    "for column in df_train.columns:\n",
    "    # Verificar si la columna es de tipo string\n",
    "    if df_train[column].dtype == 'object':\n",
    "        # Aplicar la limpieza de diacríticos a cada celda de la columna\n",
    "        df_train[column] = df_train[column].apply(lambda x: ''.join(char for char in unicodedata.normalize('NFKD', x) if not unicodedata.combining(char)) if isinstance(x, str) else x) \n",
    "\n",
    "\n",
    "for column in df_test.columns:\n",
    "    # Verificar si la columna es de tipo string\n",
    "    if df_test[column].dtype == 'object':\n",
    "        # Aplicar la limpieza de diacríticos a cada celda de la columna\n",
    "        df_test[column] = df_test[column].apply(lambda x: ''.join(char for char in unicodedata.normalize('NFKD', x) if not unicodedata.combining(char)) if isinstance(x, str) else x)\n",
    "\n"
   ]
  },
  {
   "cell_type": "markdown",
   "metadata": {},
   "source": [
    "## Probaremos eliminando la columna ‘Product’"
   ]
  },
  {
   "cell_type": "code",
   "execution_count": 15,
   "metadata": {},
   "outputs": [],
   "source": [
    "#df_train.drop(columns=['Product'], inplace=True) \n",
    "#df_test.drop(columns=['Product'], inplace=True)"
   ]
  },
  {
   "cell_type": "markdown",
   "metadata": {},
   "source": [
    "## Probaremos eliminando las columnas con mucha informacion."
   ]
  },
  {
   "cell_type": "code",
   "execution_count": 16,
   "metadata": {},
   "outputs": [],
   "source": [
    "#df_train.drop(columns=['Product', 'ScreenResolution', 'Cpu', 'Memory', 'Gpu'], inplace=True)\n",
    "#df_test.drop(columns=['Product', 'ScreenResolution', 'Cpu', 'Memory', 'Gpu'], inplace=True)"
   ]
  },
  {
   "cell_type": "code",
   "execution_count": 10,
   "metadata": {},
   "outputs": [],
   "source": [
    "df_train = df_train.sort_values(by='numeritos_temporales')\n",
    "\n",
    "df_test = df_test.sort_values(by='numeritos_temporales')"
   ]
  },
  {
   "cell_type": "code",
   "execution_count": 11,
   "metadata": {},
   "outputs": [],
   "source": [
    "df_train.drop(columns=['numeritos_temporales'], inplace=True) \n",
    "df_test.drop(columns=['numeritos_temporales'], inplace=True)"
   ]
  },
  {
   "cell_type": "markdown",
   "metadata": {},
   "source": [
    "## Guardamos una primera versión de los conjuntos de datos limpios para usarlos en una primera predicción."
   ]
  },
  {
   "cell_type": "code",
   "execution_count": 12,
   "metadata": {},
   "outputs": [],
   "source": [
    "df_train.to_csv('data/Limpios/df_train_nomodelosunico.csv', index=False)   \n",
    "df_test.to_csv('data/Limpios/df_test_largorepesv2.csv', index=False)"
   ]
  }
 ],
 "metadata": {
  "kernelspec": {
   "display_name": "Python 3",
   "language": "python",
   "name": "python3"
  },
  "language_info": {
   "codemirror_mode": {
    "name": "ipython",
    "version": 3
   },
   "file_extension": ".py",
   "mimetype": "text/x-python",
   "name": "python",
   "nbconvert_exporter": "python",
   "pygments_lexer": "ipython3",
   "version": "3.12.3"
  }
 },
 "nbformat": 4,
 "nbformat_minor": 2
}
